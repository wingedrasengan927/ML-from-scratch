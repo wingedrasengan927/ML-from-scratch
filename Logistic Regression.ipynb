{
 "cells": [
  {
   "cell_type": "code",
   "execution_count": 1,
   "metadata": {},
   "outputs": [],
   "source": [
    "import numpy as np\n",
    "import pandas as pd\n",
    "import matplotlib.pyplot as plt\n",
    "import seaborn as sns\n",
    "%matplotlib inline"
   ]
  },
  {
   "cell_type": "markdown",
   "metadata": {},
   "source": [
    "# Loading the Dataset"
   ]
  },
  {
   "cell_type": "code",
   "execution_count": 2,
   "metadata": {},
   "outputs": [
    {
     "data": {
      "text/html": [
       "<div>\n",
       "<style scoped>\n",
       "    .dataframe tbody tr th:only-of-type {\n",
       "        vertical-align: middle;\n",
       "    }\n",
       "\n",
       "    .dataframe tbody tr th {\n",
       "        vertical-align: top;\n",
       "    }\n",
       "\n",
       "    .dataframe thead th {\n",
       "        text-align: right;\n",
       "    }\n",
       "</style>\n",
       "<table border=\"1\" class=\"dataframe\">\n",
       "  <thead>\n",
       "    <tr style=\"text-align: right;\">\n",
       "      <th></th>\n",
       "      <th>Exam 1</th>\n",
       "      <th>Exam 2</th>\n",
       "      <th>Admission?</th>\n",
       "    </tr>\n",
       "  </thead>\n",
       "  <tbody>\n",
       "    <tr>\n",
       "      <th>0</th>\n",
       "      <td>34.623660</td>\n",
       "      <td>78.024693</td>\n",
       "      <td>0</td>\n",
       "    </tr>\n",
       "    <tr>\n",
       "      <th>1</th>\n",
       "      <td>30.286711</td>\n",
       "      <td>43.894998</td>\n",
       "      <td>0</td>\n",
       "    </tr>\n",
       "    <tr>\n",
       "      <th>2</th>\n",
       "      <td>35.847409</td>\n",
       "      <td>72.902198</td>\n",
       "      <td>0</td>\n",
       "    </tr>\n",
       "    <tr>\n",
       "      <th>3</th>\n",
       "      <td>60.182599</td>\n",
       "      <td>86.308552</td>\n",
       "      <td>1</td>\n",
       "    </tr>\n",
       "    <tr>\n",
       "      <th>4</th>\n",
       "      <td>79.032736</td>\n",
       "      <td>75.344376</td>\n",
       "      <td>1</td>\n",
       "    </tr>\n",
       "  </tbody>\n",
       "</table>\n",
       "</div>"
      ],
      "text/plain": [
       "      Exam 1     Exam 2  Admission?\n",
       "0  34.623660  78.024693           0\n",
       "1  30.286711  43.894998           0\n",
       "2  35.847409  72.902198           0\n",
       "3  60.182599  86.308552           1\n",
       "4  79.032736  75.344376           1"
      ]
     },
     "execution_count": 2,
     "metadata": {},
     "output_type": "execute_result"
    }
   ],
   "source": [
    "marks_data  = pd.read_csv('marks.txt', names=[\"Exam 1\", \"Exam 2\", \"Admission?\"])\n",
    "marks_data.head()"
   ]
  },
  {
   "cell_type": "code",
   "execution_count": 3,
   "metadata": {},
   "outputs": [
    {
     "data": {
      "text/plain": [
       "<matplotlib.axes._subplots.AxesSubplot at 0x192ed3374e0>"
      ]
     },
     "execution_count": 3,
     "metadata": {},
     "output_type": "execute_result"
    },
    {
     "data": {
      "image/png": "[encoded data removed]",
      "text/plain": [
       "<Figure size 576x432 with 1 Axes>"
      ]
     },
     "metadata": {
      "needs_background": "light"
     },
     "output_type": "display_data"
    }
   ],
   "source": [
    "# let's visualize the data\n",
    "plt.figure(figsize=(8, 6))\n",
    "sns.scatterplot(x=\"Exam 1\", y = \"Exam 2\", hue=\"Admission?\", data=marks_data)"
   ]
  },
  {
   "cell_type": "markdown",
   "metadata": {},
   "source": [
    "# Preparing the Data"
   ]
  },
  {
   "cell_type": "code",
   "execution_count": 4,
   "metadata": {},
   "outputs": [],
   "source": [
    "x  = marks_data.iloc[:, :-1]\n",
    "y = marks_data.iloc[:, -1]"
   ]
  },
  {
   "cell_type": "markdown",
   "metadata": {},
   "source": [
    "# Building the Model"
   ]
  },
  {
   "cell_type": "code",
   "execution_count": 5,
   "metadata": {},
   "outputs": [],
   "source": [
    "class LogisticRegression:\n",
    "    '''The Logistic Regression Algorithm'''\n",
    "    \n",
    "    def __init__(self, alpha=0.05, iters=1000, standardize=False):\n",
    "        self.alpha = alpha # learning rate\n",
    "        self.iters = iters # no of iterations\n",
    "        self.standardize = standardize\n",
    "        \n",
    "    def sigmoid(self, inpt):\n",
    "        return 1/(1+np.exp(-inpt))\n",
    "    \n",
    "    def cost_func(self, h, y): # h - output after passing through the sigmoid function\n",
    "        m = len(y)\n",
    "        first_term = np.dot(y.T, np.log(h))\n",
    "        second_term = np.dot((1-y).T, np.log(1-h))\n",
    "        loss = (-1/m) * (first_term + second_term).sum()\n",
    "        return loss\n",
    "        \n",
    "    def fit(self, x, y):\n",
    "        \n",
    "        if self.standardize:\n",
    "            x = (x-np.min(x, axis=0))/(np.max(x, axis=0) - np.min(x, axis=0))\n",
    "        \n",
    "        # adding an additional '0' Feature\n",
    "        x = np.c_[np.ones(x.shape[0]), x]\n",
    "\n",
    "        y = y[:, np.newaxis] # making it a row vector\n",
    "        m = len(y)\n",
    "        \n",
    "        # defining the coefficients\n",
    "        coeffs = np.ones(x.shape[1])\n",
    "        coeffs = coeffs[:, np.newaxis]\n",
    "        \n",
    "        # gradient descent\n",
    "        cost_func_history = []\n",
    "        for i in range(self.iters):\n",
    "            predicts = self.sigmoid(np.dot(x, coeffs))\n",
    "            error = predicts - y\n",
    "            gradient = (1/m)*np.dot(x.T, error)\n",
    "            coeffs -= self.alpha * gradient\n",
    "            cost_func_history.append(self.cost_func(predicts, y))\n",
    "\n",
    "        self.coeffs = coeffs\n",
    "        return cost_func_history\n",
    "        \n",
    "    def predict_prob(self, x):\n",
    "        return self.sigmoid(np.dot(x, self.coeffs))\n",
    "    \n",
    "    def predict(self, x, threshold=0.5):\n",
    "        if self.standardize:\n",
    "            x = (x-np.min(x, axis=0))/(np.max(x, axis=0) - np.min(x, axis=0))\n",
    "        \n",
    "        # adding an additional '0' Feature\n",
    "        x = np.c_[np.ones(x.shape[0]), x]\n",
    "        \n",
    "        prob = self.predict_prob(x)\n",
    "        result = prob>0.5 \n",
    "        def bool_to_result(inpt):\n",
    "            if inpt:\n",
    "                return 1\n",
    "            else:\n",
    "                return 0\n",
    "        return np.array(list(map(lambda x: bool_to_result(x), result)))\n",
    "            "
   ]
  },
  {
   "cell_type": "code",
   "execution_count": 6,
   "metadata": {},
   "outputs": [],
   "source": [
    "model = LogisticRegression(iters=80000, standardize=True) \n",
    "# Observation: cost function runs without errors only when the data is normalized/standardized\n",
    "cf = model.fit(x, y)"
   ]
  },
  {
   "cell_type": "code",
   "execution_count": 7,
   "metadata": {},
   "outputs": [
    {
     "data": {
      "text/plain": [
       "[<matplotlib.lines.Line2D at 0x192f044eb70>]"
      ]
     },
     "execution_count": 7,
     "metadata": {},
     "output_type": "execute_result"
    },
    {
     "data": {
      "image/png": "[encoded data removed]",
      "text/plain": [
       "<Figure size 432x288 with 1 Axes>"
      ]
     },
     "metadata": {
      "needs_background": "light"
     },
     "output_type": "display_data"
    }
   ],
   "source": [
    "plt.plot(cf)"
   ]
  },
  {
   "cell_type": "code",
   "execution_count": 8,
   "metadata": {},
   "outputs": [],
   "source": [
    "predicts = model.predict(x)"
   ]
  },
  {
   "cell_type": "code",
   "execution_count": 9,
   "metadata": {},
   "outputs": [
    {
     "data": {
      "text/plain": [
       "0.89"
      ]
     },
     "execution_count": 9,
     "metadata": {},
     "output_type": "execute_result"
    }
   ],
   "source": [
    "# let's check the accuracy of our model\n",
    "(predicts == y).mean()"
   ]
  },
  {
   "cell_type": "code",
   "execution_count": 10,
   "metadata": {},
   "outputs": [
    {
     "data": {
      "text/plain": [
       "<matplotlib.legend.Legend at 0x192f0929588>"
      ]
     },
     "execution_count": 10,
     "metadata": {},
     "output_type": "execute_result"
    },
    {
     "data": {
      "image/png": "[encoded data removed]",
      "text/plain": [
       "<Figure size 576x432 with 1 Axes>"
      ]
     },
     "metadata": {
      "needs_background": "light"
     },
     "output_type": "display_data"
    }
   ],
   "source": [
    "# let's plot the decision boundary\n",
    "# h(x) = theta0 + theta1.x1 + theta2.x2\n",
    "# set h(x) = 0. and then x2 becomes the new y (since the graph is x2 vs x1)\n",
    "\n",
    "# first we need to normalize the x values since we standardized in the model\n",
    "# let's normalize the dataset\n",
    "data_new = marks_data.copy()\n",
    "data_new.iloc[:, [0, 1]] = data_new.iloc[:, [0, 1]].apply(lambda x: (x - x.min())/(x.max()-x.min()))\n",
    "\n",
    "x11 = data_new.iloc[:, 0]\n",
    "x2 = -(model.coeffs[0] + model.coeffs[1]*x11)/model.coeffs[2]\n",
    "\n",
    "plt.figure(figsize=(8, 6))\n",
    "sns.scatterplot(x=\"Exam 1\", y=\"Exam 2\", hue=\"Admission?\", data=data_new)\n",
    "plt.plot(x11, x2, color=\"g\", label=\"Decision Boundary\")\n",
    "plt.legend()"
   ]
  },
  {
   "cell_type": "code",
   "execution_count": null,
   "metadata": {},
   "outputs": [],
   "source": []
  },
  {
   "cell_type": "code",
   "execution_count": null,
   "metadata": {},
   "outputs": [],
   "source": []
  },
  {
   "cell_type": "markdown",
   "metadata": {},
   "source": [
    "# Using Another Optimization Function"
   ]
  },
  {
   "cell_type": "code",
   "execution_count": 12,
   "metadata": {},
   "outputs": [],
   "source": [
    "# let's choose a different optimization algorithm other than gradient descent\n",
    "# Note:- This will not work if n(number of features) is less than 2\n",
    "# these are much faster then gradient descent\n",
    "\n",
    "# you have to reshape in the function again even if you've changed the dimensions here\n",
    "\n",
    "x1a = data_new.iloc[:, :-1]\n",
    "x1a = np.c_[np.ones(x1a.shape[0]), x1a]\n",
    "\n",
    "y1a = data_new.iloc[:, -1]\n",
    "y1a = y1a[:, np.newaxis]\n",
    "\n",
    "initial_coeffs = np.ones(x1a.shape[1])\n",
    "initial_coeffs = initial_coeffs[:, np.newaxis]\n",
    "\n",
    "import scipy.optimize as op\n",
    "\n",
    "def cost_func(coeffs, x, y): # h - output after passing through the sigmoid function\n",
    "    \n",
    "    # reshaping\n",
    "    m, n = x.shape\n",
    "    coeffs = coeffs.reshape((n, 1))\n",
    "    y = y.reshape((m, 1))\n",
    "    \n",
    "    h = sigmoid(np.dot(x, coeffs))\n",
    "    first_term = np.dot(y.T, np.log(h))\n",
    "    second_term = np.dot((1-y).T, np.log(1-h))\n",
    "    loss = (-1/m) * (first_term + second_term).sum()\n",
    "    return loss\n",
    "\n",
    "def sigmoid(inpt):\n",
    "    return 1/(1+np.exp(-inpt))\n",
    "\n",
    "def gradient(coeffs, x, y):\n",
    "    \n",
    "    # Note:- You need to reshape in the function itself before plunging into the optimization function\n",
    "    #        otherwise, it'll show error. Especially for the gradient function\n",
    "    m , n = x.shape\n",
    "    coeffs = coeffs.reshape((n, 1))\n",
    "    y = y.reshape((m, 1))\n",
    "    \n",
    "    m = len(y)\n",
    "    h = sigmoid(np.dot(x, coeffs))\n",
    "    error = h - y\n",
    "    grad = (1/m) * (np.dot(x.T, error))\n",
    "    return grad.flatten() # falttening is not required\n",
    "\n",
    "result = op.minimize(fun=cost_func, x0=initial_coeffs, args=(x1a, y1a),\n",
    "                          method='TNC', jac=gradient)\n",
    "optimal_coeffs = result.x"
   ]
  },
  {
   "cell_type": "code",
   "execution_count": null,
   "metadata": {},
   "outputs": [],
   "source": []
  },
  {
   "cell_type": "code",
   "execution_count": 13,
   "metadata": {},
   "outputs": [
    {
     "name": "stdout",
     "output_type": "stream",
     "text": [
      "[-12.79591207  14.3879593   13.75293889]\n",
      "\n",
      "[-11.59481529  13.07315568  12.45226138]\n"
     ]
    }
   ],
   "source": [
    "# let's compare our gradient descent coefficients with the optimization function coefficients\n",
    "\n",
    "print(optimal_coeffs)\n",
    "print()\n",
    "print(model.coeffs.flatten()) \n",
    "\n",
    "# they're almost the same"
   ]
  },
  {
   "cell_type": "code",
   "execution_count": null,
   "metadata": {},
   "outputs": [],
   "source": []
  },
  {
   "cell_type": "code",
   "execution_count": null,
   "metadata": {},
   "outputs": [],
   "source": []
  },
  {
   "cell_type": "code",
   "execution_count": null,
   "metadata": {},
   "outputs": [],
   "source": []
  },
  {
   "cell_type": "code",
   "execution_count": null,
   "metadata": {},
   "outputs": [],
   "source": []
  },
  {
   "cell_type": "code",
   "execution_count": null,
   "metadata": {},
   "outputs": [],
   "source": []
  },
  {
   "cell_type": "markdown",
   "metadata": {},
   "source": [
    "References:\n",
    "<br>https://medium.com/@martinpella/logistic-regression-from-scratch-in-python-124c5636b8ac\n",
    "<br>https://towardsdatascience.com/building-a-logistic-regression-in-python-301d27367c24\n",
    "<br>https://medium.com/@ian.dzindo01/what-is-numpy-newaxis-and-when-to-use-it-8cb61c7ed6ae"
   ]
  },
  {
   "cell_type": "code",
   "execution_count": null,
   "metadata": {},
   "outputs": [],
   "source": []
  },
  {
   "cell_type": "code",
   "execution_count": null,
   "metadata": {},
   "outputs": [],
   "source": []
  },
  {
   "cell_type": "code",
   "execution_count": null,
   "metadata": {},
   "outputs": [],
   "source": []
  },
  {
   "cell_type": "code",
   "execution_count": null,
   "metadata": {},
   "outputs": [],
   "source": []
  },
  {
   "cell_type": "code",
   "execution_count": null,
   "metadata": {},
   "outputs": [],
   "source": []
  }
 ],
 "metadata": {
  "kernelspec": {
   "display_name": "Python 3",
   "language": "python",
   "name": "python3"
  },
  "language_info": {
   "codemirror_mode": {
    "name": "ipython",
    "version": 3
   },
   "file_extension": ".py",
   "mimetype": "text/x-python",
   "name": "python",
   "nbconvert_exporter": "python",
   "pygments_lexer": "ipython3",
   "version": "3.7.2"
  }
 },
 "nbformat": 4,
 "nbformat_minor": 2
}
