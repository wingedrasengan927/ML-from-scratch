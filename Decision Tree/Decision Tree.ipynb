{
 "cells": [
  {
   "cell_type": "markdown",
   "metadata": {},
   "source": [
    "# Entropy\n",
    "\n",
    "A measure of Impurity. It is given by the formula:\n",
    "![entropy](entropy.png)"
   ]
  },
  {
   "cell_type": "code",
   "execution_count": 1,
   "metadata": {},
   "outputs": [],
   "source": [
    "# let's create a function to calculate the entropy of a column in a dataset\n",
    "\n",
    "from collections import Counter\n",
    "import math\n",
    "\n",
    "def shannonentropy(column):\n",
    "    totalCount = len(column)\n",
    "    labelCount = dict(Counter(column)) # dictionary of labels with their counts\n",
    "    entropy = 0\n",
    "    for label in labelCount:\n",
    "        pLabel = labelCount[label]/totalCount\n",
    "        entropy -= pLabel*math.log(pLabel, 2)\n",
    "    return entropy\n",
    "    "
   ]
  },
  {
   "cell_type": "code",
   "execution_count": 2,
   "metadata": {},
   "outputs": [
    {
     "data": {
      "text/html": [
       "<div>\n",
       "<style scoped>\n",
       "    .dataframe tbody tr th:only-of-type {\n",
       "        vertical-align: middle;\n",
       "    }\n",
       "\n",
       "    .dataframe tbody tr th {\n",
       "        vertical-align: top;\n",
       "    }\n",
       "\n",
       "    .dataframe thead th {\n",
       "        text-align: right;\n",
       "    }\n",
       "</style>\n",
       "<table border=\"1\" class=\"dataframe\">\n",
       "  <thead>\n",
       "    <tr style=\"text-align: right;\">\n",
       "      <th></th>\n",
       "      <th>Grade</th>\n",
       "      <th>Bumpiness</th>\n",
       "      <th>Speed Limit</th>\n",
       "      <th>Speed</th>\n",
       "    </tr>\n",
       "  </thead>\n",
       "  <tbody>\n",
       "    <tr>\n",
       "      <th>0</th>\n",
       "      <td>steep</td>\n",
       "      <td>bumpy</td>\n",
       "      <td>yes</td>\n",
       "      <td>slow</td>\n",
       "    </tr>\n",
       "    <tr>\n",
       "      <th>1</th>\n",
       "      <td>steep</td>\n",
       "      <td>smooth</td>\n",
       "      <td>yes</td>\n",
       "      <td>slow</td>\n",
       "    </tr>\n",
       "    <tr>\n",
       "      <th>2</th>\n",
       "      <td>flat</td>\n",
       "      <td>bumpy</td>\n",
       "      <td>no</td>\n",
       "      <td>fast</td>\n",
       "    </tr>\n",
       "    <tr>\n",
       "      <th>3</th>\n",
       "      <td>steep</td>\n",
       "      <td>smooth</td>\n",
       "      <td>no</td>\n",
       "      <td>fast</td>\n",
       "    </tr>\n",
       "  </tbody>\n",
       "</table>\n",
       "</div>"
      ],
      "text/plain": [
       "   Grade Bumpiness Speed Limit Speed\n",
       "0  steep     bumpy         yes  slow\n",
       "1  steep    smooth         yes  slow\n",
       "2   flat     bumpy          no  fast\n",
       "3  steep    smooth          no  fast"
      ]
     },
     "execution_count": 2,
     "metadata": {},
     "output_type": "execute_result"
    }
   ],
   "source": [
    "# let's create our dataset\n",
    "\n",
    "import pandas as pd\n",
    "\n",
    "selfCar = pd.DataFrame({\"Grade\": ['steep', 'steep', 'flat', 'steep'],\n",
    "                       \"Bumpiness\": [\"bumpy\", 'smooth', 'bumpy', 'smooth'],\n",
    "                       \"Speed Limit\":['yes', 'yes', 'no', 'no'],\n",
    "                       \"Speed\": ['slow', 'slow', 'fast', 'fast']})\n",
    "selfCar"
   ]
  },
  {
   "cell_type": "code",
   "execution_count": 3,
   "metadata": {},
   "outputs": [
    {
     "data": {
      "text/plain": [
       "1.0"
      ]
     },
     "execution_count": 3,
     "metadata": {},
     "output_type": "execute_result"
    }
   ],
   "source": [
    "shannonentropy(selfCar['Speed'])"
   ]
  },
  {
   "cell_type": "markdown",
   "metadata": {},
   "source": [
    "# Information Gain\n",
    "\n",
    "Information Gain is a metric which decides on which feature should a Node (The Labels) be split upon\n",
    "\n",
    "$Information\\ Gain$ = $Entropy\\ (Parent)$ - $[Weighted\\ Average]\\ Entropy\\ (Children)$\n",
    "\n",
    "The decision tree algorithm maximizes the information gain.\n",
    "\n",
    "Think of it as a two dimensional\n",
    "plot of some data. You want to draw a line to separate one class from\n",
    "another. Should you do this on the X-axis or the Y-axis? The answer is what you’re trying\n",
    "to find out here.\n"
   ]
  },
  {
   "cell_type": "code",
   "execution_count": 4,
   "metadata": {},
   "outputs": [],
   "source": [
    "# this function returns the information gain if the Class List is split upon by a particular feature\n",
    "def informationGain(dataset, node, featuretoSplitUpon):\n",
    "    # weighted entropy is the sum of entropies of child nodes multiplied by their respective probabilities\n",
    "    weightedEntropy = 0 \n",
    "    for label in dataset[featuretoSplitUpon].unique():\n",
    "        child = dataset[dataset[featuretoSplitUpon]==label][node] # the resulting child node if the parent node is\n",
    "                                                                  # split upon by the given feature\n",
    "        entropyChild = shannonentropy(child)\n",
    "        probChild = len(child)/len(dataset[node])\n",
    "        weightedEntropy += entropyChild * probChild\n",
    "    entropyParent = shannonentropy(dataset[node])\n",
    "    return entropyParent - weightedEntropy"
   ]
  },
  {
   "cell_type": "code",
   "execution_count": 5,
   "metadata": {},
   "outputs": [
    {
     "data": {
      "text/plain": [
       "1.0"
      ]
     },
     "execution_count": 5,
     "metadata": {},
     "output_type": "execute_result"
    }
   ],
   "source": [
    "informationGain(selfCar, 'Speed', 'Speed Limit')"
   ]
  },
  {
   "cell_type": "code",
   "execution_count": 6,
   "metadata": {},
   "outputs": [],
   "source": [
    "# we're assuming that the classList column is at the end of the dataset\n",
    "def bestFeaturetoSplitUpon(dataset):\n",
    "    featureIG = {} # this is a dictionary which maps the Information Gain with it's features\n",
    "    for feature in dataset.columns[:-1]:\n",
    "        featureIG[feature] = informationGain(dataset, dataset.columns[-1], feature)\n",
    "    sortedFeatureIG = sorted(featureIG, key=lambda x: x[1]) # sorting the dictionary\n",
    "    return sortedFeatureIG[0] # return the first element of the sorted dictionary"
   ]
  },
  {
   "cell_type": "code",
   "execution_count": 7,
   "metadata": {},
   "outputs": [
    {
     "data": {
      "text/plain": [
       "'Speed Limit'"
      ]
     },
     "execution_count": 7,
     "metadata": {},
     "output_type": "execute_result"
    }
   ],
   "source": [
    "bestFeaturetoSplitUpon(selfCar)"
   ]
  },
  {
   "cell_type": "code",
   "execution_count": 8,
   "metadata": {},
   "outputs": [
    {
     "data": {
      "text/html": [
       "<div>\n",
       "<style scoped>\n",
       "    .dataframe tbody tr th:only-of-type {\n",
       "        vertical-align: middle;\n",
       "    }\n",
       "\n",
       "    .dataframe tbody tr th {\n",
       "        vertical-align: top;\n",
       "    }\n",
       "\n",
       "    .dataframe thead th {\n",
       "        text-align: right;\n",
       "    }\n",
       "</style>\n",
       "<table border=\"1\" class=\"dataframe\">\n",
       "  <thead>\n",
       "    <tr style=\"text-align: right;\">\n",
       "      <th></th>\n",
       "      <th>Can Survive without Coming to Surface?</th>\n",
       "      <th>Has Flippers?</th>\n",
       "      <th>Fish?</th>\n",
       "    </tr>\n",
       "  </thead>\n",
       "  <tbody>\n",
       "    <tr>\n",
       "      <th>0</th>\n",
       "      <td>yes</td>\n",
       "      <td>yes</td>\n",
       "      <td>yes</td>\n",
       "    </tr>\n",
       "    <tr>\n",
       "      <th>1</th>\n",
       "      <td>yes</td>\n",
       "      <td>yes</td>\n",
       "      <td>yes</td>\n",
       "    </tr>\n",
       "    <tr>\n",
       "      <th>2</th>\n",
       "      <td>yes</td>\n",
       "      <td>no</td>\n",
       "      <td>no</td>\n",
       "    </tr>\n",
       "    <tr>\n",
       "      <th>3</th>\n",
       "      <td>no</td>\n",
       "      <td>yes</td>\n",
       "      <td>no</td>\n",
       "    </tr>\n",
       "    <tr>\n",
       "      <th>4</th>\n",
       "      <td>no</td>\n",
       "      <td>yes</td>\n",
       "      <td>no</td>\n",
       "    </tr>\n",
       "  </tbody>\n",
       "</table>\n",
       "</div>"
      ],
      "text/plain": [
       "  Can Survive without Coming to Surface? Has Flippers? Fish?\n",
       "0                                    yes           yes   yes\n",
       "1                                    yes           yes   yes\n",
       "2                                    yes            no    no\n",
       "3                                     no           yes    no\n",
       "4                                     no           yes    no"
      ]
     },
     "execution_count": 8,
     "metadata": {},
     "output_type": "execute_result"
    }
   ],
   "source": [
    "# let's make another dataset\n",
    "fish = pd.DataFrame({\"Can Survive without Coming to Surface?\": ['yes', 'yes', 'yes', 'no', 'no'],\n",
    "                    \"Has Flippers?\": ['yes', 'yes', 'no', 'yes', 'yes'],\n",
    "                    \"Fish?\": ['yes', 'yes', 'no', 'no', 'no']})\n",
    "fish"
   ]
  },
  {
   "cell_type": "code",
   "execution_count": 9,
   "metadata": {},
   "outputs": [
    {
     "data": {
      "text/plain": [
       "'Can Survive without Coming to Surface?'"
      ]
     },
     "execution_count": 9,
     "metadata": {},
     "output_type": "execute_result"
    }
   ],
   "source": [
    "bestFeaturetoSplitUpon(fish)"
   ]
  },
  {
   "cell_type": "markdown",
   "metadata": {},
   "source": [
    "# Decision Tree"
   ]
  },
  {
   "cell_type": "code",
   "execution_count": 52,
   "metadata": {},
   "outputs": [],
   "source": [
    "# this function builds a decision tree\n",
    "# it does so by recursively splitting the class labels upon the best feature until the base case is reached\n",
    "\n",
    "def createDecisionTree(dataset):\n",
    "    classList = dataset.iloc[:, -1] # the labels class\n",
    "    # the base case is reached when the class labels are all the same and we're going to return that label\n",
    "    if classList.nunique() == 1:\n",
    "        return classList.unique()[0] # this is going to be the leaf node at the bottom\n",
    "    # when there are no more features to split upon, you return the class label with highest frequency\n",
    "    if dataset.shape[1] == 1:\n",
    "        return classList.value_counts(sort=True, ascending=False).index[0]\n",
    "    bestFeature = bestFeaturetoSplitUpon(dataset) # the best feature to split upon\n",
    "    myTree = {bestFeature:{}} # initializing the tree # Note: the tree is initialised everytime it's recursed\n",
    "    # Now we split upon the labels of the best feature\n",
    "    # and recurse the function on the dataset that resulted from the split \n",
    "    for label in dataset[bestFeature].unique():\n",
    "        # the resulting dataset after the split is made upon a particular label of the best feature\n",
    "        splitDataset = dataset[dataset[bestFeature]==label].drop(bestFeature, axis=1)\n",
    "        # run the function recursively on the split dataset\n",
    "        myTree[bestFeature][label] = createDecisionTree(splitDataset)\n",
    "        # print(myTree) # use print function to visualise the recursion. This is similar to depth first search\n",
    "    return myTree"
   ]
  },
  {
   "cell_type": "code",
   "execution_count": 53,
   "metadata": {},
   "outputs": [
    {
     "data": {
      "text/plain": [
       "{'Can Survive without Coming to Surface?': {'yes': {'Has Flippers?': {'yes': 'yes',\n",
       "    'no': 'no'}},\n",
       "  'no': 'no'}}"
      ]
     },
     "execution_count": 53,
     "metadata": {},
     "output_type": "execute_result"
    }
   ],
   "source": [
    "createDecisionTree(fish)"
   ]
  },
  {
   "cell_type": "code",
   "execution_count": 16,
   "metadata": {},
   "outputs": [
    {
     "data": {
      "text/html": [
       "<div>\n",
       "<style scoped>\n",
       "    .dataframe tbody tr th:only-of-type {\n",
       "        vertical-align: middle;\n",
       "    }\n",
       "\n",
       "    .dataframe tbody tr th {\n",
       "        vertical-align: top;\n",
       "    }\n",
       "\n",
       "    .dataframe thead th {\n",
       "        text-align: right;\n",
       "    }\n",
       "</style>\n",
       "<table border=\"1\" class=\"dataframe\">\n",
       "  <thead>\n",
       "    <tr style=\"text-align: right;\">\n",
       "      <th></th>\n",
       "      <th>Grade</th>\n",
       "      <th>Bumpiness</th>\n",
       "      <th>Speed</th>\n",
       "    </tr>\n",
       "  </thead>\n",
       "  <tbody>\n",
       "    <tr>\n",
       "      <th>0</th>\n",
       "      <td>steep</td>\n",
       "      <td>bumpy</td>\n",
       "      <td>slow</td>\n",
       "    </tr>\n",
       "    <tr>\n",
       "      <th>1</th>\n",
       "      <td>steep</td>\n",
       "      <td>smooth</td>\n",
       "      <td>slow</td>\n",
       "    </tr>\n",
       "  </tbody>\n",
       "</table>\n",
       "</div>"
      ],
      "text/plain": [
       "   Grade Bumpiness Speed\n",
       "0  steep     bumpy  slow\n",
       "1  steep    smooth  slow"
      ]
     },
     "execution_count": 16,
     "metadata": {},
     "output_type": "execute_result"
    }
   ],
   "source": [
    "selfCar[selfCar['Speed Limit'] == 'yes'].drop('Speed Limit', axis=1)"
   ]
  },
  {
   "cell_type": "code",
   "execution_count": 17,
   "metadata": {},
   "outputs": [
    {
     "data": {
      "text/plain": [
       "{'ya': 10}"
      ]
     },
     "execution_count": 17,
     "metadata": {},
     "output_type": "execute_result"
    }
   ],
   "source": [
    "x = {}\n",
    "x['ya'] = 10\n",
    "x"
   ]
  },
  {
   "cell_type": "code",
   "execution_count": 27,
   "metadata": {},
   "outputs": [
    {
     "data": {
      "text/plain": [
       "'yes'"
      ]
     },
     "execution_count": 27,
     "metadata": {},
     "output_type": "execute_result"
    }
   ],
   "source": [
    "fish['Can Survive without Coming to Surface?'].unique()[0]"
   ]
  },
  {
   "cell_type": "code",
   "execution_count": 30,
   "metadata": {},
   "outputs": [
    {
     "data": {
      "text/plain": [
       "{'Speed Limit': {'yes': 'slow', 'no': 'fast'}}"
      ]
     },
     "execution_count": 30,
     "metadata": {},
     "output_type": "execute_result"
    }
   ],
   "source": [
    "createDecisionTree(selfCar)"
   ]
  },
  {
   "cell_type": "code",
   "execution_count": 31,
   "metadata": {},
   "outputs": [
    {
     "data": {
      "text/html": [
       "<div>\n",
       "<style scoped>\n",
       "    .dataframe tbody tr th:only-of-type {\n",
       "        vertical-align: middle;\n",
       "    }\n",
       "\n",
       "    .dataframe tbody tr th {\n",
       "        vertical-align: top;\n",
       "    }\n",
       "\n",
       "    .dataframe thead th {\n",
       "        text-align: right;\n",
       "    }\n",
       "</style>\n",
       "<table border=\"1\" class=\"dataframe\">\n",
       "  <thead>\n",
       "    <tr style=\"text-align: right;\">\n",
       "      <th></th>\n",
       "      <th>Grade</th>\n",
       "      <th>Bumpiness</th>\n",
       "      <th>Speed Limit</th>\n",
       "      <th>Speed</th>\n",
       "    </tr>\n",
       "  </thead>\n",
       "  <tbody>\n",
       "    <tr>\n",
       "      <th>0</th>\n",
       "      <td>steep</td>\n",
       "      <td>bumpy</td>\n",
       "      <td>yes</td>\n",
       "      <td>slow</td>\n",
       "    </tr>\n",
       "    <tr>\n",
       "      <th>1</th>\n",
       "      <td>steep</td>\n",
       "      <td>smooth</td>\n",
       "      <td>yes</td>\n",
       "      <td>slow</td>\n",
       "    </tr>\n",
       "    <tr>\n",
       "      <th>2</th>\n",
       "      <td>flat</td>\n",
       "      <td>bumpy</td>\n",
       "      <td>no</td>\n",
       "      <td>fast</td>\n",
       "    </tr>\n",
       "    <tr>\n",
       "      <th>3</th>\n",
       "      <td>steep</td>\n",
       "      <td>smooth</td>\n",
       "      <td>no</td>\n",
       "      <td>fast</td>\n",
       "    </tr>\n",
       "  </tbody>\n",
       "</table>\n",
       "</div>"
      ],
      "text/plain": [
       "   Grade Bumpiness Speed Limit Speed\n",
       "0  steep     bumpy         yes  slow\n",
       "1  steep    smooth         yes  slow\n",
       "2   flat     bumpy          no  fast\n",
       "3  steep    smooth          no  fast"
      ]
     },
     "execution_count": 31,
     "metadata": {},
     "output_type": "execute_result"
    }
   ],
   "source": [
    "selfCar"
   ]
  },
  {
   "cell_type": "code",
   "execution_count": 39,
   "metadata": {},
   "outputs": [
    {
     "data": {
      "text/plain": [
       "{'a': {}}"
      ]
     },
     "execution_count": 39,
     "metadata": {},
     "output_type": "execute_result"
    }
   ],
   "source": [
    "q = {'a':{}}\n",
    "q"
   ]
  },
  {
   "cell_type": "code",
   "execution_count": 40,
   "metadata": {},
   "outputs": [],
   "source": [
    "q = {'b':{}}"
   ]
  },
  {
   "cell_type": "code",
   "execution_count": 41,
   "metadata": {},
   "outputs": [
    {
     "data": {
      "text/plain": [
       "{'b': {}}"
      ]
     },
     "execution_count": 41,
     "metadata": {},
     "output_type": "execute_result"
    }
   ],
   "source": [
    "q"
   ]
  },
  {
   "cell_type": "code",
   "execution_count": null,
   "metadata": {},
   "outputs": [],
   "source": []
  }
 ],
 "metadata": {
  "kernelspec": {
   "display_name": "Python 3",
   "language": "python",
   "name": "python3"
  },
  "language_info": {
   "codemirror_mode": {
    "name": "ipython",
    "version": 3
   },
   "file_extension": ".py",
   "mimetype": "text/x-python",
   "name": "python",
   "nbconvert_exporter": "python",
   "pygments_lexer": "ipython3",
   "version": "3.7.2"
  }
 },
 "nbformat": 4,
 "nbformat_minor": 2
}
