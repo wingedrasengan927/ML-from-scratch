{
 "cells": [
  {
   "cell_type": "code",
   "execution_count": 34,
   "metadata": {},
   "outputs": [],
   "source": [
    "import numpy as np\n",
    "import pandas as pd\n",
    "import matplotlib.pyplot as plt\n",
    "import matplotlib.animation as animation\n",
    "%matplotlib inline"
   ]
  },
  {
   "cell_type": "markdown",
   "metadata": {},
   "source": [
    "# Creating the data"
   ]
  },
  {
   "cell_type": "code",
   "execution_count": 35,
   "metadata": {},
   "outputs": [
    {
     "data": {
      "text/plain": [
       "<matplotlib.collections.PathCollection at 0x2ffe897d710>"
      ]
     },
     "execution_count": 35,
     "metadata": {},
     "output_type": "execute_result"
    },
    {
     "data": {
      "image/png": "[encoded data removed]",
      "text/plain": [
       "<Figure size 576x432 with 1 Axes>"
      ]
     },
     "metadata": {
      "needs_background": "light"
     },
     "output_type": "display_data"
    }
   ],
   "source": [
    "# let's create some random data\n",
    "\n",
    "x = np.random.normal(100, 40, 100) \n",
    "y = 2*x + 3 + np.random.normal(0, 20, 100)\n",
    "\n",
    "plt.figure(figsize=(8, 6))\n",
    "plt.scatter(x, y, s=15)"
   ]
  },
  {
   "cell_type": "markdown",
   "metadata": {},
   "source": [
    "# Building the model"
   ]
  },
  {
   "cell_type": "code",
   "execution_count": 36,
   "metadata": {},
   "outputs": [],
   "source": [
    "class LinRegress:\n",
    "    '''Linear Regression using Gradient Descent\n",
    "    \n",
    "    attributes:\n",
    "    alpha - Learning Rate\n",
    "    iters - Number of Iterations'''\n",
    "    \n",
    "    def __init__(self, alpha = 0.05, iters = 1000):\n",
    "        self.alpha = alpha\n",
    "        self.iters = iters\n",
    "        \n",
    "    def fit(self, X, Y):\n",
    "        '''This method finds all the coefficients in the model from the training data\n",
    "        \n",
    "        arguments:\n",
    "        X - array type - The input dataset\n",
    "        Y - an array vector - The target variables\n",
    "        '''\n",
    "        \n",
    "        def standardize(dataset):\n",
    "            '''this function standardizes the data'''\n",
    "            \n",
    "            # these two will be useful when predicting\n",
    "            self.mean = np.mean(dataset, axis=0)\n",
    "            self.std = np.std(dataset, axis=0)\n",
    "            \n",
    "            return (dataset - np.mean(dataset, axis=0))/np.std(dataset, axis=0)\n",
    "        \n",
    "        \n",
    "        def normalize(dataset):\n",
    "            '''this function normalizes the data'''\n",
    "            return (dataset - np.min(dataset, axis=0))/(np.max(dataset, axis=0) - np.min(dataset, axis=0))\n",
    "        \n",
    "        # we standardize the data in this case since it's normally distributed\n",
    "        # always normalize or standardize to avoid overflow errors\n",
    "        X = standardize(X)\n",
    "        # next we concatenate a '1 vector' to account for X0 (feature of theta0)\n",
    "        X = np.c_[np.ones(X.shape[0]), X]\n",
    "        # randomly initializing the coefficients (the thetas)\n",
    "        coeffs = np.random.randn(X.shape[1])\n",
    "        m = len(Y)\n",
    "        \n",
    "        def gradient_descent(alpha, iters, X, Y, coeffs):\n",
    "            cost_func_list = []\n",
    "            for i in range(iters):\n",
    "                predicted_values = np.dot(X, coeffs)\n",
    "                actual_values = Y\n",
    "                error_values = predicted_values - actual_values\n",
    "                derivative_values = np.dot(X.T, error_values)/m\n",
    "                cost_func = 1/(2*m)*((error_values**2).sum())\n",
    "                cost_func_list.append(cost_func)\n",
    "                coeffs = coeffs - alpha * derivative_values\n",
    "                \n",
    "            # usefull for plotting the best fit line\n",
    "            self.X = X \n",
    "            self.Y = Y\n",
    "            \n",
    "            return coeffs, cost_func_list\n",
    "        \n",
    "        self.coeffs, self.cost_func_list = gradient_descent(self.alpha, self.iters,\n",
    "                                                            X, Y, coeffs)\n",
    "    \n",
    "    def predict(self, xi):\n",
    "        '''this function predicts the target variable for a given observation'''\n",
    "\n",
    "        xi = (xi - self.mean)/self.std # normalize the observation\n",
    "        xi = np.insert(xi, 0, 1)\n",
    "        target = np.dot(xi, self.coeffs)\n",
    "        return target\n",
    "            \n",
    "    def plot_cost_func(self):\n",
    "        '''this functions plots the various values of cost func over the iterations'''\n",
    "        plt.figure(figsize=(8, 6))\n",
    "        plt.plot(self.cost_func_list)\n",
    "        plt.show()\n",
    "        \n",
    "    def plot_bestFitLine(self):\n",
    "        '''this function plots the best fit line in case of two dimensions'''\n",
    "        X = self.X\n",
    "        Y = self.Y\n",
    "        if len(X.shape) == 2:\n",
    "            predicts = np.dot(X, self.coeffs)\n",
    "            plt.figure(figsize=(8, 6))\n",
    "            plt.scatter(X[:, 1], Y)\n",
    "            plt.plot(X[:, 1], predicts, c='orange')\n",
    "            plt.show()"
   ]
  },
  {
   "cell_type": "code",
   "execution_count": 37,
   "metadata": {},
   "outputs": [
    {
     "data": {
      "image/png": "[encoded data removed]",
      "text/plain": [
       "<Figure size 576x432 with 1 Axes>"
      ]
     },
     "metadata": {
      "needs_background": "light"
     },
     "output_type": "display_data"
    }
   ],
   "source": [
    "# now let's test our classifier\n",
    "lg = LinRegress()\n",
    "lg.fit(x, y)\n",
    "lg.plot_cost_func()"
   ]
  },
  {
   "cell_type": "code",
   "execution_count": 38,
   "metadata": {},
   "outputs": [
    {
     "data": {
      "image/png": "[encoded data removed]",
      "text/plain": [
       "<Figure size 576x432 with 1 Axes>"
      ]
     },
     "metadata": {
      "needs_background": "light"
     },
     "output_type": "display_data"
    }
   ],
   "source": [
    "# let's plot the best fit line\n",
    "lg.plot_bestFitLine()"
   ]
  },
  {
   "cell_type": "code",
   "execution_count": null,
   "metadata": {},
   "outputs": [],
   "source": []
  },
  {
   "cell_type": "code",
   "execution_count": 39,
   "metadata": {},
   "outputs": [
    {
     "data": {
      "text/plain": [
       "99.95949044008543"
      ]
     },
     "execution_count": 39,
     "metadata": {},
     "output_type": "execute_result"
    }
   ],
   "source": [
    "# let's predict some value\n",
    "lg.predict(np.array([50])) # works fine"
   ]
  },
  {
   "cell_type": "code",
   "execution_count": 40,
   "metadata": {},
   "outputs": [],
   "source": [
    "# now let's try with datasets with more than 1 feature\n",
    "x1 = np.random.randn(100, 10)\n",
    "y1 = np.random.randn(100)\n",
    "lg.fit(x1, y1)"
   ]
  },
  {
   "cell_type": "code",
   "execution_count": null,
   "metadata": {},
   "outputs": [],
   "source": []
  },
  {
   "cell_type": "code",
   "execution_count": null,
   "metadata": {},
   "outputs": [],
   "source": []
  },
  {
   "cell_type": "code",
   "execution_count": null,
   "metadata": {},
   "outputs": [],
   "source": []
  },
  {
   "cell_type": "code",
   "execution_count": null,
   "metadata": {},
   "outputs": [],
   "source": []
  },
  {
   "cell_type": "code",
   "execution_count": 41,
   "metadata": {},
   "outputs": [
    {
     "name": "stdout",
     "output_type": "stream",
     "text": [
      "[[1 2 3 4]\n",
      " [2 3 4 5]\n",
      " [1 1 6 7]]\n",
      "[1.33333333 2.         4.33333333 5.33333333]\n"
     ]
    },
    {
     "data": {
      "text/plain": [
       "array([[-0.33333333,  0.        , -1.33333333, -1.33333333],\n",
       "       [ 0.66666667,  1.        , -0.33333333, -0.33333333],\n",
       "       [-0.33333333, -1.        ,  1.66666667,  1.66666667]])"
      ]
     },
     "execution_count": 41,
     "metadata": {},
     "output_type": "execute_result"
    }
   ],
   "source": [
    "# some random testings----------\n",
    "a = np.array([[1, 2, 3, 4], [2, 3, 4, 5], [1, 1, 6, 7]])\n",
    "print(a)\n",
    "print(np.mean(a, axis=0))\n",
    "a -np.mean(a, axis=0)"
   ]
  },
  {
   "cell_type": "code",
   "execution_count": 42,
   "metadata": {},
   "outputs": [
    {
     "data": {
      "text/plain": [
       "array([14, 32, 50, 62])"
      ]
     },
     "execution_count": 42,
     "metadata": {},
     "output_type": "execute_result"
    }
   ],
   "source": [
    "b = np.array([[1, 2, 3], [4, 5, 6], [7, 8, 9], [9, 10, 11]])\n",
    "c = np.array([1, 2, 3])\n",
    "np.dot(b, c)"
   ]
  },
  {
   "cell_type": "code",
   "execution_count": 43,
   "metadata": {},
   "outputs": [
    {
     "data": {
      "text/plain": [
       "array([[1, 2, 1],\n",
       "       [2, 3, 1],\n",
       "       [3, 4, 6],\n",
       "       [4, 5, 7]])"
      ]
     },
     "execution_count": 43,
     "metadata": {},
     "output_type": "execute_result"
    }
   ],
   "source": [
    "a.T"
   ]
  },
  {
   "cell_type": "code",
   "execution_count": 44,
   "metadata": {},
   "outputs": [
    {
     "data": {
      "text/plain": [
       "14"
      ]
     },
     "execution_count": 44,
     "metadata": {},
     "output_type": "execute_result"
    }
   ],
   "source": [
    "a = np.array([1, 2, 3])\n",
    "(a**2).sum()"
   ]
  },
  {
   "cell_type": "code",
   "execution_count": null,
   "metadata": {},
   "outputs": [],
   "source": []
  },
  {
   "cell_type": "code",
   "execution_count": null,
   "metadata": {},
   "outputs": [],
   "source": []
  },
  {
   "cell_type": "code",
   "execution_count": null,
   "metadata": {},
   "outputs": [],
   "source": []
  },
  {
   "cell_type": "code",
   "execution_count": 72,
   "metadata": {},
   "outputs": [
    {
     "data": {
      "image/png": "[encoded data removed]",
      "text/plain": [
       "<Figure size 576x432 with 1 Axes>"
      ]
     },
     "metadata": {
      "needs_background": "light"
     },
     "output_type": "display_data"
    }
   ],
   "source": [
    "# Observing the difference between best fit lines before scaling and after scaling\n",
    "\n",
    "from sklearn.linear_model import LinearRegression\n",
    "\n",
    "lg1 = LinearRegression()\n",
    "lg1.fit(x.reshape(-1, 1), y.reshape(-1, 1))\n",
    "pred = lg1.predict(x.reshape(-1, 1))\n",
    "plt.figure(figsize=(8, 6))\n",
    "plt.scatter(x, y)\n",
    "plt.plot(x, pred, color='orange')\n",
    "plt.savefig('fig1.png')"
   ]
  },
  {
   "cell_type": "code",
   "execution_count": 73,
   "metadata": {},
   "outputs": [
    {
     "data": {
      "image/png": "[encoded data removed]",
      "text/plain": [
       "<Figure size 576x432 with 1 Axes>"
      ]
     },
     "metadata": {
      "needs_background": "light"
     },
     "output_type": "display_data"
    }
   ],
   "source": [
    "from sklearn.preprocessing import StandardScaler\n",
    "\n",
    "sd = StandardScaler()\n",
    "sd.fit(x.reshape(-1, 1))\n",
    "x22 = sd.transform(x.reshape(-1, 1))\n",
    "lg2 = LinearRegression()\n",
    "lg2.fit(x22, y)\n",
    "plt.figure(figsize=(8, 6))\n",
    "pred2 = lg2.predict(x22)\n",
    "plt.scatter(x22, y)\n",
    "plt.plot(x22, pred2, color='orange')\n",
    "plt.savefig('fig2.png')"
   ]
  },
  {
   "cell_type": "code",
   "execution_count": null,
   "metadata": {},
   "outputs": [],
   "source": []
  },
  {
   "cell_type": "code",
   "execution_count": null,
   "metadata": {},
   "outputs": [],
   "source": []
  },
  {
   "cell_type": "code",
   "execution_count": null,
   "metadata": {},
   "outputs": [],
   "source": []
  },
  {
   "cell_type": "code",
   "execution_count": null,
   "metadata": {},
   "outputs": [],
   "source": []
  },
  {
   "cell_type": "code",
   "execution_count": null,
   "metadata": {},
   "outputs": [],
   "source": []
  },
  {
   "cell_type": "markdown",
   "metadata": {},
   "source": [
    "References<br>\n",
    "https://www.kaggle.com/tentotheminus9/linear-regression-from-scratch-gradient-descent\n",
    "<br>https://towardsdatascience.com/linear-regression-using-python-b136c91bf0a2\n",
    "\n",
    "<br>Interesting articles on normalize, standardize and scale\n",
    "<br>https://towardsdatascience.com/scale-standardize-or-normalize-with-scikit-learn-6ccc7d176a02/ \n",
    "<br>https://stackoverflow.com/questions/32108179/linear-regression-normalization"
   ]
  },
  {
   "cell_type": "code",
   "execution_count": null,
   "metadata": {},
   "outputs": [],
   "source": []
  }
 ],
 "metadata": {
  "kernelspec": {
   "display_name": "Python 3",
   "language": "python",
   "name": "python3"
  },
  "language_info": {
   "codemirror_mode": {
    "name": "ipython",
    "version": 3
   },
   "file_extension": ".py",
   "mimetype": "text/x-python",
   "name": "python",
   "nbconvert_exporter": "python",
   "pygments_lexer": "ipython3",
   "version": "3.7.2"
  }
 },
 "nbformat": 4,
 "nbformat_minor": 2
}
