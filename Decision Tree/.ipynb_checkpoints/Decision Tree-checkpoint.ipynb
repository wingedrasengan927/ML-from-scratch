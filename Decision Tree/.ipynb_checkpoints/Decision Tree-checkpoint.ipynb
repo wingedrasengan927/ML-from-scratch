{
 "cells": [
  {
   "cell_type": "markdown",
   "metadata": {},
   "source": [
    "# Entropy\n",
    "\n",
    "A measure of Impurity. It is given by the formula:\n",
    "![entropy](entropy.png)"
   ]
  },
  {
   "cell_type": "code",
   "execution_count": 1,
   "metadata": {},
   "outputs": [],
   "source": [
    "# let's create a function to calculate the entropy of a column in a dataset\n",
    "\n",
    "from collections import Counter\n",
    "import math\n",
    "\n",
    "def shannonentropy(column):\n",
    "    totalCount = len(column)\n",
    "    labelCount = dict(Counter(column)) # dictionary of labels with their counts\n",
    "    entropy = 0\n",
    "    for label in labelCount:\n",
    "        pLabel = labelCount[label]/totalCount\n",
    "        entropy -= pLabel*math.log(pLabel, 2)\n",
    "    return entropy\n",
    "    "
   ]
  },
  {
   "cell_type": "code",
   "execution_count": 2,
   "metadata": {},
   "outputs": [
    {
     "data": {
      "text/html": [
       "<div>\n",
       "<style scoped>\n",
       "    .dataframe tbody tr th:only-of-type {\n",
       "        vertical-align: middle;\n",
       "    }\n",
       "\n",
       "    .dataframe tbody tr th {\n",
       "        vertical-align: top;\n",
       "    }\n",
       "\n",
       "    .dataframe thead th {\n",
       "        text-align: right;\n",
       "    }\n",
       "</style>\n",
       "<table border=\"1\" class=\"dataframe\">\n",
       "  <thead>\n",
       "    <tr style=\"text-align: right;\">\n",
       "      <th></th>\n",
       "      <th>Grade</th>\n",
       "      <th>Bumpiness</th>\n",
       "      <th>Speed Limit</th>\n",
       "      <th>Speed</th>\n",
       "    </tr>\n",
       "  </thead>\n",
       "  <tbody>\n",
       "    <tr>\n",
       "      <th>0</th>\n",
       "      <td>steep</td>\n",
       "      <td>bumpy</td>\n",
       "      <td>yes</td>\n",
       "      <td>slow</td>\n",
       "    </tr>\n",
       "    <tr>\n",
       "      <th>1</th>\n",
       "      <td>steep</td>\n",
       "      <td>smooth</td>\n",
       "      <td>yes</td>\n",
       "      <td>slow</td>\n",
       "    </tr>\n",
       "    <tr>\n",
       "      <th>2</th>\n",
       "      <td>flat</td>\n",
       "      <td>bumpy</td>\n",
       "      <td>no</td>\n",
       "      <td>fast</td>\n",
       "    </tr>\n",
       "    <tr>\n",
       "      <th>3</th>\n",
       "      <td>steep</td>\n",
       "      <td>smooth</td>\n",
       "      <td>no</td>\n",
       "      <td>fast</td>\n",
       "    </tr>\n",
       "  </tbody>\n",
       "</table>\n",
       "</div>"
      ],
      "text/plain": [
       "   Grade Bumpiness Speed Limit Speed\n",
       "0  steep     bumpy         yes  slow\n",
       "1  steep    smooth         yes  slow\n",
       "2   flat     bumpy          no  fast\n",
       "3  steep    smooth          no  fast"
      ]
     },
     "execution_count": 2,
     "metadata": {},
     "output_type": "execute_result"
    }
   ],
   "source": [
    "# let's create our dataset\n",
    "\n",
    "import pandas as pd\n",
    "\n",
    "selfCar = pd.DataFrame({\"Grade\": ['steep', 'steep', 'flat', 'steep'],\n",
    "                       \"Bumpiness\": [\"bumpy\", 'smooth', 'bumpy', 'smooth'],\n",
    "                       \"Speed Limit\":['yes', 'yes', 'no', 'no'],\n",
    "                       \"Speed\": ['slow', 'slow', 'fast', 'fast']})\n",
    "selfCar"
   ]
  },
  {
   "cell_type": "code",
   "execution_count": 3,
   "metadata": {},
   "outputs": [
    {
     "data": {
      "text/plain": [
       "1.0"
      ]
     },
     "execution_count": 3,
     "metadata": {},
     "output_type": "execute_result"
    }
   ],
   "source": [
    "shannonentropy(selfCar['Speed'])"
   ]
  },
  {
   "cell_type": "markdown",
   "metadata": {},
   "source": [
    "# Information Gain\n",
    "\n",
    "Information Gain is a metric which decides on which feature should a Node (The Labels) be split upon\n",
    "\n",
    "$Information\\ Gain$ = $Entropy\\ (Parent)$ - $[Weighted\\ Average]\\ Entropy\\ (Children)$\n",
    "\n",
    "The decision tree algorithm maximizes the information gain.\n",
    "\n",
    "Think of it as a two dimensional\n",
    "plot of some data. You want to draw a line to separate one class from\n",
    "another. Should you do this on the X-axis or the Y-axis? The answer is what you’re trying\n",
    "to find out here.\n"
   ]
  },
  {
   "cell_type": "code",
   "execution_count": 4,
   "metadata": {},
   "outputs": [],
   "source": [
    "# this function returns the information gain if the Class List is split upon by a particular feature\n",
    "def informationGain(dataset, node, featuretoSplitUpon):\n",
    "    # weighted entropy is the sum of entropies of child nodes multiplied by their respective probabilities\n",
    "    weightedEntropy = 0 \n",
    "    for label in dataset[featuretoSplitUpon].unique():\n",
    "        child = dataset[dataset[featuretoSplitUpon]==label][node] # the resulting child node if the parent node is\n",
    "                                                                  # split upon by the given feature\n",
    "        entropyChild = shannonentropy(child)\n",
    "        probChild = len(child)/len(dataset[node])\n",
    "        weightedEntropy += entropyChild * probChild\n",
    "    entropyParent = shannonentropy(dataset[node])\n",
    "    return entropyParent - weightedEntropy"
   ]
  },
  {
   "cell_type": "code",
   "execution_count": 5,
   "metadata": {},
   "outputs": [
    {
     "data": {
      "text/plain": [
       "1.0"
      ]
     },
     "execution_count": 5,
     "metadata": {},
     "output_type": "execute_result"
    }
   ],
   "source": [
    "informationGain(selfCar, 'Speed', 'Speed Limit')"
   ]
  },
  {
   "cell_type": "code",
   "execution_count": 6,
   "metadata": {},
   "outputs": [],
   "source": [
    "# we're assuming that the classList column is at the end of the dataset\n",
    "def bestFeaturetoSplitUpon(dataset):\n",
    "    featureIG = {} # this is a dictionary which maps the Information Gain with it's features\n",
    "    for feature in dataset.columns[:-1]:\n",
    "        featureIG[feature] = informationGain(dataset, dataset.columns[-1], feature)\n",
    "    sortedFeatureIG = sorted(featureIG, key=lambda x: x[1]) # sorting the dictionary\n",
    "    return sortedFeatureIG[0] # return the first element of the sorted dictionary"
   ]
  },
  {
   "cell_type": "code",
   "execution_count": 7,
   "metadata": {},
   "outputs": [
    {
     "data": {
      "text/plain": [
       "'Speed Limit'"
      ]
     },
     "execution_count": 7,
     "metadata": {},
     "output_type": "execute_result"
    }
   ],
   "source": [
    "bestFeaturetoSplitUpon(selfCar)"
   ]
  },
  {
   "cell_type": "code",
   "execution_count": 8,
   "metadata": {},
   "outputs": [
    {
     "data": {
      "text/html": [
       "<div>\n",
       "<style scoped>\n",
       "    .dataframe tbody tr th:only-of-type {\n",
       "        vertical-align: middle;\n",
       "    }\n",
       "\n",
       "    .dataframe tbody tr th {\n",
       "        vertical-align: top;\n",
       "    }\n",
       "\n",
       "    .dataframe thead th {\n",
       "        text-align: right;\n",
       "    }\n",
       "</style>\n",
       "<table border=\"1\" class=\"dataframe\">\n",
       "  <thead>\n",
       "    <tr style=\"text-align: right;\">\n",
       "      <th></th>\n",
       "      <th>Can Survive without Coming to Surface?</th>\n",
       "      <th>Has Flippers?</th>\n",
       "      <th>Fish?</th>\n",
       "    </tr>\n",
       "  </thead>\n",
       "  <tbody>\n",
       "    <tr>\n",
       "      <th>0</th>\n",
       "      <td>yes</td>\n",
       "      <td>yes</td>\n",
       "      <td>yes</td>\n",
       "    </tr>\n",
       "    <tr>\n",
       "      <th>1</th>\n",
       "      <td>yes</td>\n",
       "      <td>yes</td>\n",
       "      <td>yes</td>\n",
       "    </tr>\n",
       "    <tr>\n",
       "      <th>2</th>\n",
       "      <td>yes</td>\n",
       "      <td>no</td>\n",
       "      <td>no</td>\n",
       "    </tr>\n",
       "    <tr>\n",
       "      <th>3</th>\n",
       "      <td>no</td>\n",
       "      <td>yes</td>\n",
       "      <td>no</td>\n",
       "    </tr>\n",
       "    <tr>\n",
       "      <th>4</th>\n",
       "      <td>no</td>\n",
       "      <td>yes</td>\n",
       "      <td>no</td>\n",
       "    </tr>\n",
       "  </tbody>\n",
       "</table>\n",
       "</div>"
      ],
      "text/plain": [
       "  Can Survive without Coming to Surface? Has Flippers? Fish?\n",
       "0                                    yes           yes   yes\n",
       "1                                    yes           yes   yes\n",
       "2                                    yes            no    no\n",
       "3                                     no           yes    no\n",
       "4                                     no           yes    no"
      ]
     },
     "execution_count": 8,
     "metadata": {},
     "output_type": "execute_result"
    }
   ],
   "source": [
    "# let's make another dataset\n",
    "fish = pd.DataFrame({\"Can Survive without Coming to Surface?\": ['yes', 'yes', 'yes', 'no', 'no'],\n",
    "                    \"Has Flippers?\": ['yes', 'yes', 'no', 'yes', 'yes'],\n",
    "                    \"Fish?\": ['yes', 'yes', 'no', 'no', 'no']})\n",
    "fish"
   ]
  },
  {
   "cell_type": "code",
   "execution_count": 9,
   "metadata": {},
   "outputs": [
    {
     "data": {
      "text/plain": [
       "'Can Survive without Coming to Surface?'"
      ]
     },
     "execution_count": 9,
     "metadata": {},
     "output_type": "execute_result"
    }
   ],
   "source": [
    "bestFeaturetoSplitUpon(fish)"
   ]
  },
  {
   "cell_type": "markdown",
   "metadata": {},
   "source": [
    "# Decision Tree"
   ]
  },
  {
   "cell_type": "code",
   "execution_count": 10,
   "metadata": {},
   "outputs": [],
   "source": [
    "# this function builds a decision tree\n",
    "# it does so by recursively splitting the class labels upon the best feature until the base case is reached\n",
    "\n",
    "def createDecisionTree(dataset):\n",
    "    classList = dataset.iloc[:, -1] # the labels class\n",
    "    # the base case is reached when the class labels are all the same and we're going to return that label\n",
    "    if classList.nunique() == 1:\n",
    "        return classList.unique()[0] # this is going to be the leaf node at the bottom\n",
    "    # when there are no more features to split upon, you return the class label with highest frequency\n",
    "    if dataset.shape[1] == 1:\n",
    "        return classList.value_counts(sort=True, ascending=False).index[0]\n",
    "    bestFeature = bestFeaturetoSplitUpon(dataset) # the best feature to split upon\n",
    "    myTree = {bestFeature:{}} # initializing the tree # Note: the tree is initialised everytime it's recursed\n",
    "    # Now we split upon the labels of the best feature\n",
    "    # and recurse the function on the dataset that resulted from the split \n",
    "    for label in dataset[bestFeature].unique():\n",
    "        # the resulting dataset after the split is made upon a particular label of the best feature\n",
    "        splitDataset = dataset[dataset[bestFeature]==label].drop(bestFeature, axis=1)\n",
    "        # run the function recursively on the split dataset\n",
    "        myTree[bestFeature][label] = createDecisionTree(splitDataset)\n",
    "    return myTree"
   ]
  },
  {
   "cell_type": "code",
   "execution_count": 11,
   "metadata": {},
   "outputs": [
    {
     "data": {
      "text/plain": [
       "{'Can Survive without Coming to Surface?': {'yes': {'Has Flippers?': {'yes': 'yes',\n",
       "    'no': 'no'}},\n",
       "  'no': 'no'}}"
      ]
     },
     "execution_count": 11,
     "metadata": {},
     "output_type": "execute_result"
    }
   ],
   "source": [
    "createDecisionTree(fish)"
   ]
  },
  {
   "cell_type": "markdown",
   "metadata": {},
   "source": [
    "# Visualising the Tree"
   ]
  },
  {
   "cell_type": "code",
   "execution_count": 12,
   "metadata": {},
   "outputs": [
    {
     "data": {
      "image/png": "[encoded data removed]",
      "text/plain": [
       "<Figure size 432x432 with 1 Axes>"
      ]
     },
     "metadata": {
      "needs_background": "light"
     },
     "output_type": "display_data"
    }
   ],
   "source": [
    "# let's see how to plot a box and annotate it\n",
    "\n",
    "import numpy as np\n",
    "import matplotlib.pyplot as plt\n",
    "%matplotlib inline\n",
    "\n",
    "fig, ax = plt.subplots(figsize=(6, 6))\n",
    "\n",
    "# let's plot a box\n",
    "\n",
    "# formatting the box style\n",
    "# arguments in their respective order\n",
    "# box style, pad, fill color, stroke color, stroke size\n",
    "bbox_props = dict(boxstyle=\"round4,pad=0.8\", fc=\"#00cec9\", ec=\"black\", lw=1)\n",
    "\n",
    "# The text() function in the pyplot module (or text method of the Axes class) takes bbox keyword argument,\n",
    "# and when given, a box around the text is drawn.\n",
    "\n",
    "# putting text into the box\n",
    "# arguments in their respective order\n",
    "# x coordinate, y coordinate, text to be written inside it, horizontal alignment, vertical alignment\n",
    "# rotation, box size, box style\n",
    "t = ax.text(0.5, 0.5, \"Direction\", ha=\"center\", va=\"center\", rotation=0,\n",
    "            size=20,\n",
    "            bbox=bbox_props)"
   ]
  },
  {
   "cell_type": "code",
   "execution_count": 13,
   "metadata": {},
   "outputs": [
    {
     "data": {
      "text/plain": [
       "Text(0.2, 0.8, 'Yolo')"
      ]
     },
     "execution_count": 13,
     "metadata": {},
     "output_type": "execute_result"
    },
    {
     "data": {
      "image/png": "[encoded data removed]",
      "text/plain": [
       "<Figure size 432x432 with 1 Axes>"
      ]
     },
     "metadata": {
      "needs_background": "light"
     },
     "output_type": "display_data"
    }
   ],
   "source": [
    "# let's annotate the box with an arrow\n",
    "\n",
    "# The annotate() function in the pyplot module (or annotate method of the Axes class)\n",
    "# is used to draw an arrow connecting two points on the plot.\n",
    "\n",
    "fig, ax = plt.subplots(figsize=(6, 6))\n",
    "\n",
    "# formatting the arrow style\n",
    "arrow_props = dict(arrowstyle=\"->\", connectionstyle=\"angle3, angleA=0, angleB=90\", )\n",
    "\n",
    "ax.annotate(\"Yolo\",\n",
    "            xy=(0.8, 0.2), xycoords='data',\n",
    "            xytext=(0.2 , 0.8), textcoords='data',\n",
    "            arrowprops=arrow_props, fontsize=20\n",
    "            )"
   ]
  },
  {
   "cell_type": "code",
   "execution_count": 14,
   "metadata": {},
   "outputs": [
    {
     "data": {
      "image/png": "[encoded data removed]",
      "text/plain": [
       "<Figure size 432x432 with 1 Axes>"
      ]
     },
     "metadata": {
      "needs_background": "light"
     },
     "output_type": "display_data"
    }
   ],
   "source": [
    "# now combining both box and arrow\n",
    "\n",
    "fig, ax = plt.subplots(figsize=(6, 6))\n",
    "\n",
    "ann = ax.annotate(\"Test\",\n",
    "                  xy=(0.2, 0.2), xycoords='data',\n",
    "                  xytext=(0.8, 0.8), textcoords='data',\n",
    "                  size=20, va=\"center\", ha=\"center\",\n",
    "                  bbox=bbox_props,\n",
    "                  arrowprops=arrow_props, \n",
    "                  )"
   ]
  },
  {
   "cell_type": "code",
   "execution_count": 15,
   "metadata": {},
   "outputs": [
    {
     "data": {
      "image/png": "[encoded data removed]",
      "text/plain": [
       "<Figure size 720x720 with 1 Axes>"
      ]
     },
     "metadata": {
      "needs_background": "light"
     },
     "output_type": "display_data"
    }
   ],
   "source": [
    "# now let's write a function which creates nodes\n",
    "\n",
    "# let's format arrow and box styles\n",
    "decisionNode = dict(boxstyle=\"round4,pad=0.8\", fc=\"#00cec9\", ec=\"black\", lw=1)\n",
    "arrow = dict(arrowstyle=\"<-\", connectionstyle=\"arc3, rad=0\")\n",
    "leafNode = dict(boxstyle=\"circle\", fc=\"#f1c40f\", ec=\"black\", lw=1)\n",
    "\n",
    "# this function plots a node with an arrow pointed towards it; (use '->') for away from and '<-' for towards\n",
    "def plotNode(axis, nodeText, nodePt, parentPt, nodeType):\n",
    "    axis.annotate(nodeText, xy=parentPt, xycoords=\"axes fraction\",\n",
    "                            xytext=nodePt, textcoords=\"axes fraction\",\n",
    "                           size=10, va=\"center\", ha=\"center\", bbox=nodeType, \n",
    "                            arrowprops=arrow)\n",
    "\n",
    "# this function creates a canvas or a figure object where we can plot our nodes\n",
    "def createPlot():\n",
    "    fig, ax = plt.subplots(figsize=(10,10))\n",
    "    plotNode(ax, 'a decision node', (0.5, 0.1), (0.1, 0.5), decisionNode)\n",
    "    plotNode(ax, 'a leaf node', (0.8, 0.1), (0.3, 0.8), leafNode)\n",
    "    plt.show()\n",
    "    \n",
    "createPlot()"
   ]
  },
  {
   "cell_type": "code",
   "execution_count": 16,
   "metadata": {},
   "outputs": [],
   "source": [
    "# You need to know how many leaf nodes you have so that\n",
    "# you can properly size things in the X direction,\n",
    "# and you need to know how many levels\n",
    "# you have so you can properly size the Y direction.\n",
    "\n",
    "# let's create functions which can get us that\n",
    "\n",
    "# this function gets the total number of leaf nodes\n",
    "# we iterate through the values of the dictionary and we know a leaf node is reached if that value is not a dictionary\n",
    "def getLeavesCount(treeDict, leafCount=0):\n",
    "    # The first key is the feature of the first split\n",
    "    keyStart = list(treeDict.keys())[0]\n",
    "    # the values associated with that key are the children of the first node.\n",
    "    valueStart = treeDict[keyStart]\n",
    "    # You get out the first key and value, and then you iterate over all of the child nodes.\n",
    "    for key in valueStart.keys():\n",
    "        # If the child node is of type dict, then it is another decision node\n",
    "        # and you must recursively call your function.\n",
    "        if type(valueStart[key]).__name__=='dict':\n",
    "            leafCount += getLeavesCount(treeDict[keyStart], leafCount)\n",
    "        else:\n",
    "            leafCount += 1\n",
    "    return leafCount\n",
    "\n",
    "# this function measures the depth by counting the number of times you hit the decision node\n",
    "# you know you've hit the decision node if it's child is a dictionary\n",
    "def  getTreeDepth(treeDict):\n",
    "    maxDepth = 0\n",
    "    keyStart = list(treeDict)[0] # the parent\n",
    "    valueStart = treeDict[keyStart] # the child\n",
    "    for key in valueStart.keys(): \n",
    "        if type(valueStart[key]).__name__=='dict':\n",
    "            currentDepth = 1 + getTreeDepth(valueStart[key]) # this 1 is for childs parent\n",
    "        else:\n",
    "            currentDepth=1 # to account for the childs parent \n",
    "        if currentDepth>maxDepth:\n",
    "            maxDepth = currentDepth\n",
    "    return maxDepth\n",
    "        "
   ]
  },
  {
   "cell_type": "code",
   "execution_count": 17,
   "metadata": {},
   "outputs": [
    {
     "data": {
      "text/plain": [
       "3"
      ]
     },
     "execution_count": 17,
     "metadata": {},
     "output_type": "execute_result"
    }
   ],
   "source": [
    "getLeavesCount(createDecisionTree(fish)) "
   ]
  },
  {
   "cell_type": "code",
   "execution_count": 18,
   "metadata": {},
   "outputs": [
    {
     "data": {
      "text/plain": [
       "2"
      ]
     },
     "execution_count": 18,
     "metadata": {},
     "output_type": "execute_result"
    }
   ],
   "source": [
    "getTreeDepth(createDecisionTree(fish))"
   ]
  },
  {
   "cell_type": "code",
   "execution_count": 19,
   "metadata": {},
   "outputs": [
    {
     "data": {
      "text/plain": [
       "{'Can Survive without Coming to Surface?': {'yes': {'Has Flippers?': {'yes': 'yes',\n",
       "    'no': 'no'}},\n",
       "  'no': 'no'}}"
      ]
     },
     "execution_count": 19,
     "metadata": {},
     "output_type": "execute_result"
    }
   ],
   "source": [
    "createDecisionTree(fish)"
   ]
  },
  {
   "cell_type": "code",
   "execution_count": 20,
   "metadata": {},
   "outputs": [],
   "source": [
    "# now let's plot the tree \n",
    "\n",
    "# defining the text box style\n",
    "textbox_props = dict(boxstyle=\"square,pad=0.8\", fc=\"#ecf0f1\", ec=\"black\", lw=1)\n",
    "\n",
    "\n",
    "# this function plots the text midway between child and parent\n",
    "def plotmidwaytext(axis, childPt, parentPt, textString):\n",
    "    xMid = (childPt[0]+parentPt[0])/2.0 # xmid = (x1 + x2)/2; ymid = (y1+y2)/2 \n",
    "    yMid = (childPt[1]+parentPt[1])/2.0\n",
    "    axis.text(xMid, yMid, textString, ha=\"center\", va=\"center\", rotation=0, size=10, bbox=textbox_props)\n",
    "    \n",
    "# let's plot the tree\n",
    "def plotTree(axis, treeDict, parentPt, nodeTxt, totalWidth, totalDepth, xOff, yOff):\n",
    "    # get the width and height\n",
    "    # The idea is to place this in the middle of all the leaf nodes below it,\n",
    "    # not place it in the middle of its children.\n",
    "    numLeafs = getLeavesCount(treeDict)\n",
    "    currentDepth = getTreeDepth(treeDict)\n",
    "    keyFirst = list(treeDict)[0]\n",
    "    # get the coordinates of the child\n",
    "    childPt = (xOff + (1.0 + float(numLeafs))/2.0/totalWidth, yOff)\n",
    "    # plot text miday between parent and child\n",
    "    plotmidwaytext(axis, childPt, parentPt, nodeTxt)\n",
    "    plotNode(axis, keyFirst, childPt, parentPt, decisionNode)\n",
    "    valueFirst = treeDict[keyFirst]\n",
    "    # decrement y offset. You decrement rather than increment because you start drawing from the top of the image\n",
    "    yOff = yOff - 1/totalDepth\n",
    "    for key in valueFirst.keys():\n",
    "        # next we check for the type of node and plot accordingly\n",
    "        if type(valueFirst[key]).__name__ == 'dict':\n",
    "            plotTree(axis, valueFirst[key], childPt, str(key), totalWidth, totalDepth, xOff, yOff)\n",
    "        else:\n",
    "            xOff = xOff + 1/totalWidth\n",
    "            plotNode(axis, valueFirst[key], (xOff, yOff), childPt, leafNode)\n",
    "            plotmidwaytext(axis, (xOff, yOff), childPt, str(key))\n",
    "    yOff = yOff + 1.0/totalDepth\n",
    "    \n",
    "def createTreePlot(dataset):\n",
    "    # you’re plotting everything on the x-axis from 0.0 to 1.0 and on the y-axis from 0.0 to 1.0.\n",
    "    fig, ax = plt.subplots(figsize=(10,10))\n",
    "    totalWidth = float(getLeavesCount(createDecisionTree(dataset)))\n",
    "    totalDepth = float(getTreeDepth(createDecisionTree(dataset)))\n",
    "    # the X axis is split into as many segments as you have leaves\n",
    "    xOff = -0.5/totalWidth; yOff = 1\n",
    "    plotTree(ax, createDecisionTree(dataset), (0.5, 1), \"\", totalWidth, totalDepth, xOff, yOff)\n",
    "    plt.show()"
   ]
  },
  {
   "cell_type": "code",
   "execution_count": 21,
   "metadata": {},
   "outputs": [
    {
     "data": {
      "image/png": "[encoded data removed]",
      "text/plain": [
       "<Figure size 720x720 with 1 Axes>"
      ]
     },
     "metadata": {
      "needs_background": "light"
     },
     "output_type": "display_data"
    }
   ],
   "source": [
    "createTreePlot(fish)"
   ]
  },
  {
   "cell_type": "markdown",
   "metadata": {},
   "source": [
    "# Test: using the tree for classification"
   ]
  },
  {
   "cell_type": "code",
   "execution_count": 22,
   "metadata": {},
   "outputs": [],
   "source": [
    "# let's classify using the tree we've built\n",
    "def classifyTree(treeDict, testData):\n",
    "    # we grab the best feature and the value associated with that\n",
    "    bestFeature = list(treeDict.keys())[0]\n",
    "    bestValue = testData[bestFeature]\n",
    "    # we then find the node in the tree\n",
    "    # if the node is a dict, it means we've reached the decision node\n",
    "    if type(treeDict[bestFeature][bestValue]).__name__ == 'dict':\n",
    "        # we recurse the function over the split test data and tree from the current decision node\n",
    "        splitTestData = testData.drop(bestFeature)\n",
    "        return classifyTree(treeDict[bestFeature][bestValue], splitTestData)\n",
    "    else:\n",
    "        # If you reach a leaf node, you’ve made your classification and it’s time to exit.\n",
    "        return treeDict[bestFeature][bestValue]"
   ]
  },
  {
   "cell_type": "code",
   "execution_count": 23,
   "metadata": {},
   "outputs": [
    {
     "data": {
      "text/plain": [
       "'slow'"
      ]
     },
     "execution_count": 23,
     "metadata": {},
     "output_type": "execute_result"
    }
   ],
   "source": [
    "classifyTree(createDecisionTree(selfCar), selfCar.iloc[0, :-1])"
   ]
  },
  {
   "cell_type": "code",
   "execution_count": 24,
   "metadata": {},
   "outputs": [
    {
     "data": {
      "text/html": [
       "<div>\n",
       "<style scoped>\n",
       "    .dataframe tbody tr th:only-of-type {\n",
       "        vertical-align: middle;\n",
       "    }\n",
       "\n",
       "    .dataframe tbody tr th {\n",
       "        vertical-align: top;\n",
       "    }\n",
       "\n",
       "    .dataframe thead th {\n",
       "        text-align: right;\n",
       "    }\n",
       "</style>\n",
       "<table border=\"1\" class=\"dataframe\">\n",
       "  <thead>\n",
       "    <tr style=\"text-align: right;\">\n",
       "      <th></th>\n",
       "      <th>Grade</th>\n",
       "      <th>Bumpiness</th>\n",
       "      <th>Speed Limit</th>\n",
       "      <th>Speed</th>\n",
       "    </tr>\n",
       "  </thead>\n",
       "  <tbody>\n",
       "    <tr>\n",
       "      <th>0</th>\n",
       "      <td>steep</td>\n",
       "      <td>bumpy</td>\n",
       "      <td>yes</td>\n",
       "      <td>slow</td>\n",
       "    </tr>\n",
       "    <tr>\n",
       "      <th>1</th>\n",
       "      <td>steep</td>\n",
       "      <td>smooth</td>\n",
       "      <td>yes</td>\n",
       "      <td>slow</td>\n",
       "    </tr>\n",
       "    <tr>\n",
       "      <th>2</th>\n",
       "      <td>flat</td>\n",
       "      <td>bumpy</td>\n",
       "      <td>no</td>\n",
       "      <td>fast</td>\n",
       "    </tr>\n",
       "    <tr>\n",
       "      <th>3</th>\n",
       "      <td>steep</td>\n",
       "      <td>smooth</td>\n",
       "      <td>no</td>\n",
       "      <td>fast</td>\n",
       "    </tr>\n",
       "  </tbody>\n",
       "</table>\n",
       "</div>"
      ],
      "text/plain": [
       "   Grade Bumpiness Speed Limit Speed\n",
       "0  steep     bumpy         yes  slow\n",
       "1  steep    smooth         yes  slow\n",
       "2   flat     bumpy          no  fast\n",
       "3  steep    smooth          no  fast"
      ]
     },
     "execution_count": 24,
     "metadata": {},
     "output_type": "execute_result"
    }
   ],
   "source": [
    "selfCar"
   ]
  },
  {
   "cell_type": "code",
   "execution_count": 25,
   "metadata": {},
   "outputs": [
    {
     "data": {
      "text/plain": [
       "'yes'"
      ]
     },
     "execution_count": 25,
     "metadata": {},
     "output_type": "execute_result"
    }
   ],
   "source": [
    "classifyTree(createDecisionTree(fish), fish.iloc[0, :-1])"
   ]
  },
  {
   "cell_type": "code",
   "execution_count": 26,
   "metadata": {},
   "outputs": [
    {
     "data": {
      "text/html": [
       "<div>\n",
       "<style scoped>\n",
       "    .dataframe tbody tr th:only-of-type {\n",
       "        vertical-align: middle;\n",
       "    }\n",
       "\n",
       "    .dataframe tbody tr th {\n",
       "        vertical-align: top;\n",
       "    }\n",
       "\n",
       "    .dataframe thead th {\n",
       "        text-align: right;\n",
       "    }\n",
       "</style>\n",
       "<table border=\"1\" class=\"dataframe\">\n",
       "  <thead>\n",
       "    <tr style=\"text-align: right;\">\n",
       "      <th></th>\n",
       "      <th>Can Survive without Coming to Surface?</th>\n",
       "      <th>Has Flippers?</th>\n",
       "      <th>Fish?</th>\n",
       "    </tr>\n",
       "  </thead>\n",
       "  <tbody>\n",
       "    <tr>\n",
       "      <th>0</th>\n",
       "      <td>yes</td>\n",
       "      <td>yes</td>\n",
       "      <td>yes</td>\n",
       "    </tr>\n",
       "    <tr>\n",
       "      <th>1</th>\n",
       "      <td>yes</td>\n",
       "      <td>yes</td>\n",
       "      <td>yes</td>\n",
       "    </tr>\n",
       "    <tr>\n",
       "      <th>2</th>\n",
       "      <td>yes</td>\n",
       "      <td>no</td>\n",
       "      <td>no</td>\n",
       "    </tr>\n",
       "    <tr>\n",
       "      <th>3</th>\n",
       "      <td>no</td>\n",
       "      <td>yes</td>\n",
       "      <td>no</td>\n",
       "    </tr>\n",
       "    <tr>\n",
       "      <th>4</th>\n",
       "      <td>no</td>\n",
       "      <td>yes</td>\n",
       "      <td>no</td>\n",
       "    </tr>\n",
       "  </tbody>\n",
       "</table>\n",
       "</div>"
      ],
      "text/plain": [
       "  Can Survive without Coming to Surface? Has Flippers? Fish?\n",
       "0                                    yes           yes   yes\n",
       "1                                    yes           yes   yes\n",
       "2                                    yes            no    no\n",
       "3                                     no           yes    no\n",
       "4                                     no           yes    no"
      ]
     },
     "execution_count": 26,
     "metadata": {},
     "output_type": "execute_result"
    }
   ],
   "source": [
    "fish"
   ]
  },
  {
   "cell_type": "markdown",
   "metadata": {},
   "source": [
    "# Use: persisting the decision tree"
   ]
  },
  {
   "cell_type": "code",
   "execution_count": 27,
   "metadata": {},
   "outputs": [],
   "source": [
    "# building tree is the majority of the work\n",
    "\n",
    "# When it’s time to classify items with a tree, you can do it quickly. \n",
    "# It would be a waste of time to build the tree every time you wanted to make a classification."
   ]
  },
  {
   "cell_type": "code",
   "execution_count": 28,
   "metadata": {},
   "outputs": [],
   "source": [
    "# we'll use pickle module to serialize objects\n",
    "# Serializing objects allows you to store them for later use.\n",
    "# Serializing can be done with any object, and dictionaries work as well."
   ]
  },
  {
   "cell_type": "markdown",
   "metadata": {},
   "source": [
    "Great tutorial on pickle:\n",
    "<br>https://www.datacamp.com/community/tutorials/pickle-python-tutorial"
   ]
  },
  {
   "cell_type": "code",
   "execution_count": 36,
   "metadata": {},
   "outputs": [],
   "source": [
    "# let's store the fish tree\n",
    "\n",
    "import pickle\n",
    "\n",
    "def storeTree(treeDict, filename):\n",
    "    with open(filename, 'wb') as f: # wb means you'll be writing the file in binary mode\n",
    "        pickle.dump(treeDict, f)\n",
    "\n",
    "def grabTree(filename):\n",
    "    with open(filename, 'rb') as f:\n",
    "        return pickle.load(f)\n",
    "    "
   ]
  },
  {
   "cell_type": "code",
   "execution_count": 37,
   "metadata": {},
   "outputs": [],
   "source": [
    "storeTree(createDecisionTree(fish), 'fishDecisionTree.txt')"
   ]
  },
  {
   "cell_type": "code",
   "execution_count": 38,
   "metadata": {},
   "outputs": [
    {
     "name": "stdout",
     "output_type": "stream",
     "text": [
      "{'Can Survive without Coming to Surface?': {'yes': {'Has Flippers?': {'yes': 'yes', 'no': 'no'}}, 'no': 'no'}}\n"
     ]
    }
   ],
   "source": [
    "print(grabTree('fishDecisionTree.txt')) # it works!"
   ]
  },
  {
   "cell_type": "code",
   "execution_count": null,
   "metadata": {},
   "outputs": [],
   "source": []
  },
  {
   "cell_type": "code",
   "execution_count": null,
   "metadata": {},
   "outputs": [],
   "source": []
  },
  {
   "cell_type": "code",
   "execution_count": null,
   "metadata": {},
   "outputs": [],
   "source": []
  },
  {
   "cell_type": "code",
   "execution_count": null,
   "metadata": {},
   "outputs": [],
   "source": []
  },
  {
   "cell_type": "code",
   "execution_count": null,
   "metadata": {},
   "outputs": [],
   "source": []
  },
  {
   "cell_type": "code",
   "execution_count": null,
   "metadata": {},
   "outputs": [],
   "source": []
  }
 ],
 "metadata": {
  "kernelspec": {
   "display_name": "Python 3",
   "language": "python",
   "name": "python3"
  },
  "language_info": {
   "codemirror_mode": {
    "name": "ipython",
    "version": 3
   },
   "file_extension": ".py",
   "mimetype": "text/x-python",
   "name": "python",
   "nbconvert_exporter": "python",
   "pygments_lexer": "ipython3",
   "version": "3.7.2"
  }
 },
 "nbformat": 4,
 "nbformat_minor": 2
}
