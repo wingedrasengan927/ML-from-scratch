{
 "cells": [
  {
   "cell_type": "code",
   "execution_count": 162,
   "metadata": {},
   "outputs": [],
   "source": [
    "import numpy as np\n",
    "import pandas as pd\n",
    "import matplotlib.pyplot as plt\n",
    "import seaborn as sns\n",
    "%matplotlib inline"
   ]
  },
  {
   "cell_type": "code",
   "execution_count": 163,
   "metadata": {},
   "outputs": [
    {
     "data": {
      "text/html": [
       "<div>\n",
       "<style scoped>\n",
       "    .dataframe tbody tr th:only-of-type {\n",
       "        vertical-align: middle;\n",
       "    }\n",
       "\n",
       "    .dataframe tbody tr th {\n",
       "        vertical-align: top;\n",
       "    }\n",
       "\n",
       "    .dataframe thead th {\n",
       "        text-align: right;\n",
       "    }\n",
       "</style>\n",
       "<table border=\"1\" class=\"dataframe\">\n",
       "  <thead>\n",
       "    <tr style=\"text-align: right;\">\n",
       "      <th></th>\n",
       "      <th>test 1</th>\n",
       "      <th>test 2</th>\n",
       "      <th>result</th>\n",
       "    </tr>\n",
       "  </thead>\n",
       "  <tbody>\n",
       "    <tr>\n",
       "      <th>0</th>\n",
       "      <td>0.051267</td>\n",
       "      <td>0.69956</td>\n",
       "      <td>1</td>\n",
       "    </tr>\n",
       "    <tr>\n",
       "      <th>1</th>\n",
       "      <td>-0.092742</td>\n",
       "      <td>0.68494</td>\n",
       "      <td>1</td>\n",
       "    </tr>\n",
       "    <tr>\n",
       "      <th>2</th>\n",
       "      <td>-0.213710</td>\n",
       "      <td>0.69225</td>\n",
       "      <td>1</td>\n",
       "    </tr>\n",
       "    <tr>\n",
       "      <th>3</th>\n",
       "      <td>-0.375000</td>\n",
       "      <td>0.50219</td>\n",
       "      <td>1</td>\n",
       "    </tr>\n",
       "    <tr>\n",
       "      <th>4</th>\n",
       "      <td>-0.513250</td>\n",
       "      <td>0.46564</td>\n",
       "      <td>1</td>\n",
       "    </tr>\n",
       "  </tbody>\n",
       "</table>\n",
       "</div>"
      ],
      "text/plain": [
       "     test 1   test 2  result\n",
       "0  0.051267  0.69956       1\n",
       "1 -0.092742  0.68494       1\n",
       "2 -0.213710  0.69225       1\n",
       "3 -0.375000  0.50219       1\n",
       "4 -0.513250  0.46564       1"
      ]
     },
     "execution_count": 163,
     "metadata": {},
     "output_type": "execute_result"
    }
   ],
   "source": [
    "chips_data = pd.read_csv('ex2data2.txt', names=[\"test 1\", \"test 2\", \"result\"])\n",
    "chips_data.head()"
   ]
  },
  {
   "cell_type": "code",
   "execution_count": 164,
   "metadata": {},
   "outputs": [
    {
     "data": {
      "text/plain": [
       "<matplotlib.axes._subplots.AxesSubplot at 0x1fffa8b43c8>"
      ]
     },
     "execution_count": 164,
     "metadata": {},
     "output_type": "execute_result"
    },
    {
     "data": {
      "image/png": "[encoded data removed]",
      "text/plain": [
       "<Figure size 576x432 with 1 Axes>"
      ]
     },
     "metadata": {
      "needs_background": "light"
     },
     "output_type": "display_data"
    }
   ],
   "source": [
    "# let's plot this data\n",
    "\n",
    "plt.figure(figsize=(8, 6))\n",
    "sns.scatterplot(x=\"test 1\", y=\"test 2\", hue=\"result\", \n",
    "                data=chips_data)"
   ]
  },
  {
   "cell_type": "code",
   "execution_count": 165,
   "metadata": {},
   "outputs": [],
   "source": [
    "# feature mapping\n",
    "\n",
    "def feature_map(x1, x2, degree):\n",
    "    fVec = np.ones(x1.shape[0])[:, np.newaxis] # adding the additinal '0' feature\n",
    "    for i in range(1, degree+1):\n",
    "        for j in range(i+1):\n",
    "            # print(\"x^{}.y^{}\".format(i-j, j)) # if you want to visualize how it works\n",
    "            fVec = np.hstack((fVec, np.multiply(np.power(x1, i-j), np.power(x2, j))[:, np.newaxis]))\n",
    "    return fVec"
   ]
  },
  {
   "cell_type": "code",
   "execution_count": null,
   "metadata": {},
   "outputs": [],
   "source": []
  },
  {
   "cell_type": "code",
   "execution_count": 166,
   "metadata": {},
   "outputs": [],
   "source": [
    "# let's define the functions\n",
    "\n",
    "def sigmoid(inpt):\n",
    "    return 1/(1+np.exp(-inpt))\n",
    "\n",
    "def cost_func(coeffs, x, y, lmbda):\n",
    "    '''regularized cost function'''\n",
    "    \n",
    "    # reshaping\n",
    "    m, n = x.shape\n",
    "    coeffs = coeffs.reshape((n, 1))\n",
    "    y = y.reshape((m, 1))\n",
    "    \n",
    "    m = x.shape[0]\n",
    "    h = sigmoid(np.dot(x, coeffs))\n",
    "    first_term = np.dot(y.T,np.log(h))\n",
    "    second_term = np.dot((1-y).T, np.log(1-h))\n",
    "    J = (-1/m)*(first_term + second_term).sum() # the sum() is to convert an array to a number\n",
    "    additional_term = (lmbda/(2*m)) * np.square(coeffs).sum() # this is the regularization term\n",
    "    return (J + additional_term)\n",
    "\n",
    "def gradient(coeffs, x, y, lmbda):\n",
    "    '''computes the regularized gradient at a particular point and returns the gradient vector'''\n",
    "    \n",
    "    # reshaping\n",
    "    m, n = x.shape\n",
    "    coeffs = coeffs.reshape((n, 1))\n",
    "    y = y.reshape((m, 1))\n",
    "      \n",
    "    h = sigmoid(np.dot(x, coeffs))\n",
    "    error = h-y\n",
    "    gradientVec = (1/m)*np.dot(x.T, error)\n",
    "    gradientVec[1:] += (lmbda/m)*coeffs[1:]\n",
    "    return gradientVec\n",
    "\n",
    "def gradient_descent(coeffs, x, y, lmbda):\n",
    "    alpha = 0.5\n",
    "    iters = 2000\n",
    "    m=len(y)\n",
    "    J_history = []\n",
    "    for i in range(iters):\n",
    "        gradVec = gradient(coeffs, x, y, lmbda)\n",
    "        coeffs = coeffs - (alpha*gradVec)\n",
    "        J_history.append(cost_func(coeffs, x, y, lmbda))\n",
    "        \n",
    "    return coeffs, J_history"
   ]
  },
  {
   "cell_type": "code",
   "execution_count": 167,
   "metadata": {},
   "outputs": [],
   "source": [
    "# setting up the variables\n",
    "\n",
    "X = feature_map(chips_data.iloc[:, 0], chips_data.iloc[:, 1], 6)\n",
    "y = chips_data.iloc[:, -1][:, np.newaxis]\n",
    "coeffs = np.zeros(X.shape[1])[:, np.newaxis]\n",
    "lmbda = 1"
   ]
  },
  {
   "cell_type": "code",
   "execution_count": 168,
   "metadata": {},
   "outputs": [
    {
     "data": {
      "text/plain": [
       "0.6931471805599454"
      ]
     },
     "execution_count": 168,
     "metadata": {},
     "output_type": "execute_result"
    }
   ],
   "source": [
    "cost_func(coeffs, X, y, lmbda)"
   ]
  },
  {
   "cell_type": "code",
   "execution_count": 169,
   "metadata": {},
   "outputs": [
    {
     "data": {
      "text/plain": [
       "[<matplotlib.lines.Line2D at 0x1fffbf5c908>]"
      ]
     },
     "execution_count": 169,
     "metadata": {},
     "output_type": "execute_result"
    },
    {
     "data": {
      "image/png": "[encoded data removed]",
      "text/plain": [
       "<Figure size 576x432 with 1 Axes>"
      ]
     },
     "metadata": {
      "needs_background": "light"
     },
     "output_type": "display_data"
    }
   ],
   "source": [
    "coeffs_opt, J_history = gradient_descent(coeffs, X, y, 1)\n",
    "plt.figure(figsize=(8, 6))\n",
    "plt.plot(J_history)"
   ]
  },
  {
   "cell_type": "code",
   "execution_count": 170,
   "metadata": {},
   "outputs": [],
   "source": [
    "# let's use scipys optimize function to find the optimal coefficients\n",
    "\n",
    "from scipy import optimize\n",
    "\n",
    "result = optimize.minimize(fun=cost_func, x0=coeffs, args=(X, y, lmbda), method='TNC', jac=gradient)\n",
    "optimal_coeffs_tnc = result.x"
   ]
  },
  {
   "cell_type": "code",
   "execution_count": 171,
   "metadata": {},
   "outputs": [
    {
     "name": "stdout",
     "output_type": "stream",
     "text": [
      "[ 1.27272637  0.62526699  1.18107986 -2.01992999 -0.91739493 -1.43161682\n",
      "  0.12401466 -0.3655409  -0.35726    -0.17511363 -1.45816804 -0.05101423\n",
      " -0.61556894 -0.27470006 -1.19282169 -0.24218146 -0.20601512 -0.04475604\n",
      " -0.27778232 -0.29538165 -0.45637226 -1.04321687  0.02775403 -0.29244193\n",
      "  0.01555166 -0.32738433 -0.1438839  -0.92468416]\n",
      "\n",
      "[ 1.25441461  0.6227677   1.19242754 -2.00505484 -0.87290685 -1.36184261\n",
      "  0.1257381  -0.35536827 -0.35603633 -0.17096327 -1.45784653 -0.06683327\n",
      " -0.61498646 -0.25080274 -1.18096053 -0.22566841 -0.2056289  -0.06382342\n",
      " -0.2718703  -0.2765899  -0.46836089 -1.03247375  0.01627585 -0.29695278\n",
      "  0.0058107  -0.32631643 -0.12073371 -0.93023097]\n"
     ]
    }
   ],
   "source": [
    "# now let's compare gradient descents coefficients with optimize coefficients\n",
    "print(coeffs_opt.flatten())\n",
    "print()\n",
    "print(optimal_coeffs_tnc) # almost the same"
   ]
  },
  {
   "cell_type": "code",
   "execution_count": 177,
   "metadata": {},
   "outputs": [
    {
     "data": {
      "text/plain": [
       "0.8305084745762712"
      ]
     },
     "execution_count": 177,
     "metadata": {},
     "output_type": "execute_result"
    }
   ],
   "source": [
    "# now let's compare both the accuracies\n",
    "\n",
    "pred1 = [sigmoid(X@coeffs_opt.flatten()) >= 0.5] # gradient descent\n",
    "(pred1 == y.flatten()).mean()"
   ]
  },
  {
   "cell_type": "code",
   "execution_count": 178,
   "metadata": {},
   "outputs": [
    {
     "data": {
      "text/plain": [
       "0.8305084745762712"
      ]
     },
     "execution_count": 178,
     "metadata": {},
     "output_type": "execute_result"
    }
   ],
   "source": [
    "pred = [sigmoid(X@optimal_coeffs_tnc) >= 0.5] #  scipy's optimize tnc\n",
    "(pred == y.flatten()).mean()"
   ]
  },
  {
   "cell_type": "code",
   "execution_count": null,
   "metadata": {},
   "outputs": [],
   "source": []
  },
  {
   "cell_type": "code",
   "execution_count": 174,
   "metadata": {},
   "outputs": [
    {
     "data": {
      "text/plain": [
       "<matplotlib.axes._subplots.AxesSubplot at 0x1fffbf76b00>"
      ]
     },
     "execution_count": 174,
     "metadata": {},
     "output_type": "execute_result"
    },
    {
     "data": {
      "image/png": "[encoded data removed]",
      "text/plain": [
       "<Figure size 576x432 with 1 Axes>"
      ]
     },
     "metadata": {
      "needs_background": "light"
     },
     "output_type": "display_data"
    }
   ],
   "source": [
    "# let's plot the decision boundary\n",
    "\n",
    "def feature_mapPlot(x1, x2, degree): \n",
    "    '''feature mapping for plotting.\n",
    "    Modified so that it can accept a single element rather than an array as argument'''\n",
    "    fVec = np.ones(1)\n",
    "    for i in range(1, degree+1):\n",
    "        for j in range(i+1):\n",
    "            terms = (x1**(i-j)) * (x2**j)\n",
    "            fVec = np.hstack((fVec, terms))\n",
    "    return fVec\n",
    "\n",
    "u_vals = np.linspace(-1, 1.5, 100)\n",
    "v_vals = np.linspace(-1, 1.5, 100)\n",
    "z = np.zeros((len(u_vals), len(v_vals)))\n",
    "for i in range(len(u_vals)):\n",
    "    for j in range(len(v_vals)):\n",
    "        z[i][j] = feature_mapPlot(u_vals[i], v_vals[j], 6) @ optimal_coeffs_tnc # @ can be used in place of dot product\n",
    "plt.figure(figsize=(8, 6))\n",
    "plt.contour(u_vals, v_vals, z.T, 0)\n",
    "sns.scatterplot(x=\"test 1\", y=\"test 2\", hue=\"result\", \n",
    "                data=chips_data)"
   ]
  },
  {
   "cell_type": "code",
   "execution_count": null,
   "metadata": {},
   "outputs": [],
   "source": []
  },
  {
   "cell_type": "code",
   "execution_count": null,
   "metadata": {},
   "outputs": [],
   "source": []
  },
  {
   "cell_type": "code",
   "execution_count": null,
   "metadata": {},
   "outputs": [],
   "source": []
  },
  {
   "cell_type": "code",
   "execution_count": null,
   "metadata": {},
   "outputs": [],
   "source": []
  },
  {
   "cell_type": "code",
   "execution_count": null,
   "metadata": {},
   "outputs": [],
   "source": []
  },
  {
   "cell_type": "code",
   "execution_count": null,
   "metadata": {},
   "outputs": [],
   "source": []
  },
  {
   "cell_type": "code",
   "execution_count": null,
   "metadata": {},
   "outputs": [],
   "source": []
  },
  {
   "cell_type": "code",
   "execution_count": 175,
   "metadata": {},
   "outputs": [
    {
     "data": {
      "text/plain": [
       "array([[1, 3],\n",
       "       [2, 4],\n",
       "       [3, 5]])"
      ]
     },
     "execution_count": 175,
     "metadata": {},
     "output_type": "execute_result"
    }
   ],
   "source": [
    "# testing np.hstack()\n",
    "a = np.array([[1], [2], [3]])\n",
    "b = np.array([[3], [4], [5]])\n",
    "np.hstack((a, b))"
   ]
  },
  {
   "cell_type": "code",
   "execution_count": null,
   "metadata": {},
   "outputs": [],
   "source": []
  },
  {
   "cell_type": "code",
   "execution_count": null,
   "metadata": {},
   "outputs": [],
   "source": []
  },
  {
   "cell_type": "markdown",
   "metadata": {},
   "source": [
    "References:\n",
    "<br>https://medium.com/analytics-vidhya/python-implementation-of-andrew-ngs-machine-learning-course-part-2-2-dceff1a12a12\n",
    "<br>https://towardsdatascience.com/andrew-ngs-machine-learning-course-in-python-regularized-logistic-regression-lasso-regression-721f311130fb"
   ]
  },
  {
   "cell_type": "code",
   "execution_count": null,
   "metadata": {},
   "outputs": [],
   "source": []
  },
  {
   "cell_type": "code",
   "execution_count": null,
   "metadata": {},
   "outputs": [],
   "source": []
  }
 ],
 "metadata": {
  "kernelspec": {
   "display_name": "Python 3",
   "language": "python",
   "name": "python3"
  },
  "language_info": {
   "codemirror_mode": {
    "name": "ipython",
    "version": 3
   },
   "file_extension": ".py",
   "mimetype": "text/x-python",
   "name": "python",
   "nbconvert_exporter": "python",
   "pygments_lexer": "ipython3",
   "version": "3.7.2"
  }
 },
 "nbformat": 4,
 "nbformat_minor": 2
}
